{
 "cells": [
  {
   "cell_type": "code",
   "execution_count": 1,
   "id": "40daa4c9",
   "metadata": {},
   "outputs": [],
   "source": [
    "from virustotal_python import Virustotal\n",
    "import os.path\n",
    "from pprint import pprint\n",
    "import os\n",
    "import time\n",
    "import pandas as pd"
   ]
  },
  {
   "cell_type": "code",
   "execution_count": null,
   "id": "7ab3d987",
   "metadata": {},
   "outputs": [],
   "source": [
    "api_keys = []\n",
    "\n",
    "#[\"96917c65ba088d321566cc934a4ad1ada207c7838a0ce856260d679c23072402\",\"70c821a26ea004a01a8ff447797c7a022ccfa241919a9285e8d0ba0afa17384e\",\"a1efe17d0cd49109d386e8dad991cd6187a18aa5c2b2b3a794cb3c474fa30502\"]"
   ]
  },
  {
   "cell_type": "code",
   "execution_count": 2,
   "id": "8f61bb80",
   "metadata": {},
   "outputs": [
    {
     "data": {
      "text/plain": [
       "456"
      ]
     },
     "execution_count": 2,
     "metadata": {},
     "output_type": "execute_result"
    }
   ],
   "source": [
    "file_lis = os.listdir(\"Benign_files\")\n",
    "len(file_lis)"
   ]
  },
  {
   "cell_type": "code",
   "execution_count": null,
   "id": "37895088",
   "metadata": {},
   "outputs": [],
   "source": [
    "extension = []\n",
    "hashes = []\n",
    "count = 0"
   ]
  },
  {
   "cell_type": "code",
   "execution_count": null,
   "id": "eb5e0570",
   "metadata": {
    "scrolled": true
   },
   "outputs": [],
   "source": [
    "k = count\n",
    "s = 0\n",
    "c = 0\n",
    "for i in range(k,len(file_lis)):\n",
    "    c+=1\n",
    "    if(c==4):\n",
    "        s=(s+1)%3\n",
    "        c=0\n",
    "        \n",
    "    FILE_PATH = \"Benign_files/\" + file_lis[i]\n",
    "    \n",
    "    files = {\"file\": (os.path.basename(FILE_PATH), open(os.path.abspath(FILE_PATH), \"rb\"))}\n",
    "\n",
    "\n",
    "    vtotal = Virustotal(API_KEY=api_keys[s])\n",
    "    print(s)\n",
    "    try:\n",
    "\n",
    "        resp = vtotal.request(\"file/scan\", files=files, method=\"POST\")\n",
    "\n",
    "        #print(resp.response_code)\n",
    "\n",
    "        if(resp.response_code>=200 or resp.response_code<300):\n",
    "            hashes.append(resp.json()[\"sha256\"])\n",
    "            extension.append(FILE_PATH.split(\".\")[-1])\n",
    "            count += 1\n",
    "            print(count)\n",
    "            print(resp.json()[\"sha256\"])\n",
    "        else:\n",
    "            print(\"Sleep\")\n",
    "            time.sleep(100)\n",
    "    \n",
    "    except:\n",
    "        \n",
    "        print(\"wait\")\n",
    "        time.sleep(100)"
   ]
  },
  {
   "cell_type": "code",
   "execution_count": null,
   "id": "ae3be081",
   "metadata": {},
   "outputs": [],
   "source": [
    "hashes"
   ]
  },
  {
   "cell_type": "code",
   "execution_count": null,
   "id": "eb4e8667",
   "metadata": {},
   "outputs": [],
   "source": [
    "count"
   ]
  },
  {
   "cell_type": "code",
   "execution_count": null,
   "id": "01124df7",
   "metadata": {},
   "outputs": [],
   "source": [
    "data= pd.DataFrame({\"Hash\":hashes,\"Extension\":extension})\n",
    "data"
   ]
  },
  {
   "cell_type": "code",
   "execution_count": null,
   "id": "aa64d579",
   "metadata": {},
   "outputs": [],
   "source": [
    "file=(\"benign_hash.csv\")\n",
    "data.to_csv(path_or_buf=file, mode='a', header=False)"
   ]
  },
  {
   "cell_type": "code",
   "execution_count": null,
   "id": "96f6ae42",
   "metadata": {},
   "outputs": [],
   "source": []
  },
  {
   "cell_type": "raw",
   "id": "cea946c9",
   "metadata": {},
   "source": [
    "from virustotal_python import Virustotal\n",
    "import os.path\n",
    "from pprint import pprint\n",
    "\n",
    "API_KEY = \"96917c65ba088d321566cc934a4ad1ada207c7838a0ce856260d679c23072402\"\n",
    "# 96917c65ba088d321566cc934a4ad1ada207c7838a0ce856260d679c23072402\n",
    "\n",
    "# Declare PATH to file\n",
    "FILE_PATH = \"VL2020210503451_DA.pdf\"\n",
    "\n",
    "# Create dictionary containing the file to send for multipart encoding upload\n",
    "files = {\"file\": (os.path.basename(FILE_PATH), open(os.path.abspath(FILE_PATH), \"rb\"))}\n",
    "\n",
    "# v2 example\n",
    "vtotal = Virustotal(API_KEY=API_KEY)\n",
    "\n",
    "resp = vtotal.request(\"file/scan\", files=files, method=\"POST\")\n",
    "\n",
    "print(resp.response_code)\n",
    "pprint(resp.json())\n",
    "\n",
    "# v3 example\n",
    "#vtotal = Virustotal(API_KEY=API_KEY, API_VERSION=\"v3\")\n",
    "\n",
    "#resp = vtotal.request(\"files\", files=files, method=\"POST\")\n",
    "\n",
    "#pprint(resp.data)"
   ]
  }
 ],
 "metadata": {
  "kernelspec": {
   "display_name": "Python 3",
   "language": "python",
   "name": "python3"
  },
  "language_info": {
   "codemirror_mode": {
    "name": "ipython",
    "version": 3
   },
   "file_extension": ".py",
   "mimetype": "text/x-python",
   "name": "python",
   "nbconvert_exporter": "python",
   "pygments_lexer": "ipython3",
   "version": "3.8.8"
  }
 },
 "nbformat": 4,
 "nbformat_minor": 5
}
