{
 "cells": [
  {
   "cell_type": "code",
   "execution_count": 1,
   "metadata": {},
   "outputs": [],
   "source": [
    "import pandas as pd\n",
    "import numpy as np\n",
    "import matplotlib.pyplot as plt\n",
    "import seaborn as sns"
   ]
  },
  {
   "cell_type": "code",
   "execution_count": 2,
   "metadata": {},
   "outputs": [],
   "source": [
    "data=pd.read_csv(\"Dataset.csv\")"
   ]
  },
  {
   "cell_type": "code",
   "execution_count": 3,
   "metadata": {},
   "outputs": [
    {
     "data": {
      "text/html": [
       "<div>\n",
       "<style scoped>\n",
       "    .dataframe tbody tr th:only-of-type {\n",
       "        vertical-align: middle;\n",
       "    }\n",
       "\n",
       "    .dataframe tbody tr th {\n",
       "        vertical-align: top;\n",
       "    }\n",
       "\n",
       "    .dataframe thead th {\n",
       "        text-align: right;\n",
       "    }\n",
       "</style>\n",
       "<table border=\"1\" class=\"dataframe\">\n",
       "  <thead>\n",
       "    <tr style=\"text-align: right;\">\n",
       "      <th></th>\n",
       "      <th>Unnamed: 0</th>\n",
       "      <th>SHA</th>\n",
       "      <th>Magic</th>\n",
       "      <th>File Type</th>\n",
       "      <th>File Size</th>\n",
       "      <th>Creation Time</th>\n",
       "      <th>Last Analysis</th>\n",
       "      <th>No. of Names</th>\n",
       "      <th>Signature Info</th>\n",
       "      <th>Target</th>\n",
       "      <th>...</th>\n",
       "      <th>Registry Keys opened</th>\n",
       "      <th>Registry Keys deleted</th>\n",
       "      <th>Shell commands</th>\n",
       "      <th>Processes created</th>\n",
       "      <th>Processes terminated</th>\n",
       "      <th>Services opened</th>\n",
       "      <th>Services created</th>\n",
       "      <th>Mutexes created</th>\n",
       "      <th>Mutexes opened</th>\n",
       "      <th>Class</th>\n",
       "    </tr>\n",
       "  </thead>\n",
       "  <tbody>\n",
       "    <tr>\n",
       "      <th>0</th>\n",
       "      <td>0</td>\n",
       "      <td>b1fd9e79f22a7085af1a127b11fe15d05eeded2c0efca7...</td>\n",
       "      <td>PE32+ executable for MS Windows (DLL) (GUI) Mo...</td>\n",
       "      <td>Win32 DLL</td>\n",
       "      <td>13.96 KB (14296 bytes)</td>\n",
       "      <td>NaN</td>\n",
       "      <td>NaN</td>\n",
       "      <td>2</td>\n",
       "      <td>1</td>\n",
       "      <td>NaN</td>\n",
       "      <td>...</td>\n",
       "      <td>0</td>\n",
       "      <td>0</td>\n",
       "      <td>0</td>\n",
       "      <td>0</td>\n",
       "      <td>0</td>\n",
       "      <td>0</td>\n",
       "      <td>0</td>\n",
       "      <td>0</td>\n",
       "      <td>0</td>\n",
       "      <td>benign</td>\n",
       "    </tr>\n",
       "    <tr>\n",
       "      <th>1</th>\n",
       "      <td>1</td>\n",
       "      <td>321cb38eff1a85a0426dcf28707352af86078c810cee36...</td>\n",
       "      <td>MS-DOS executable, MZ for MS-DOS</td>\n",
       "      <td>Win32 EXE</td>\n",
       "      <td>76.22 KB (78048 bytes)</td>\n",
       "      <td>1987-09-11 01:35:02</td>\n",
       "      <td>2020-05-09 13:13:19</td>\n",
       "      <td>8</td>\n",
       "      <td>-1</td>\n",
       "      <td>Intel 386 or later processors and compatible p...</td>\n",
       "      <td>...</td>\n",
       "      <td>10</td>\n",
       "      <td>0</td>\n",
       "      <td>0</td>\n",
       "      <td>0</td>\n",
       "      <td>0</td>\n",
       "      <td>0</td>\n",
       "      <td>0</td>\n",
       "      <td>1</td>\n",
       "      <td>8</td>\n",
       "      <td>malware</td>\n",
       "    </tr>\n",
       "    <tr>\n",
       "      <th>2</th>\n",
       "      <td>2</td>\n",
       "      <td>663404cd54c9a0e7d4c278638f2de59e1970df9e80c1c3...</td>\n",
       "      <td>PE32 executable for MS Windows (GUI) Intel 803...</td>\n",
       "      <td>Win32 EXE</td>\n",
       "      <td>50.50 KB (51712 bytes)</td>\n",
       "      <td>1999-11-23 03:10:42</td>\n",
       "      <td>2020-05-11 01:43:34</td>\n",
       "      <td>10</td>\n",
       "      <td>-1</td>\n",
       "      <td>Intel 386 or later processors and compatible p...</td>\n",
       "      <td>...</td>\n",
       "      <td>0</td>\n",
       "      <td>0</td>\n",
       "      <td>0</td>\n",
       "      <td>0</td>\n",
       "      <td>0</td>\n",
       "      <td>0</td>\n",
       "      <td>0</td>\n",
       "      <td>0</td>\n",
       "      <td>0</td>\n",
       "      <td>malware</td>\n",
       "    </tr>\n",
       "    <tr>\n",
       "      <th>3</th>\n",
       "      <td>3</td>\n",
       "      <td>160fed659b4c9b24d0052e24bebfdc76a909c70636ef85...</td>\n",
       "      <td>NaN</td>\n",
       "      <td>NaN</td>\n",
       "      <td>NaN</td>\n",
       "      <td>NaN</td>\n",
       "      <td>NaN</td>\n",
       "      <td>0</td>\n",
       "      <td>-1</td>\n",
       "      <td>NaN</td>\n",
       "      <td>...</td>\n",
       "      <td>10</td>\n",
       "      <td>0</td>\n",
       "      <td>0</td>\n",
       "      <td>0</td>\n",
       "      <td>0</td>\n",
       "      <td>0</td>\n",
       "      <td>0</td>\n",
       "      <td>10</td>\n",
       "      <td>0</td>\n",
       "      <td>benign</td>\n",
       "    </tr>\n",
       "    <tr>\n",
       "      <th>4</th>\n",
       "      <td>4</td>\n",
       "      <td>32be84189044725082165df81f97fcb442867948d75dd7...</td>\n",
       "      <td>PE32 executable for MS Windows (GUI) Intel 803...</td>\n",
       "      <td>Win32 EXE</td>\n",
       "      <td>165.75 KB (169727 bytes)</td>\n",
       "      <td>2004-08-05 21:49:16</td>\n",
       "      <td>2020-04-18 18:16:49</td>\n",
       "      <td>10</td>\n",
       "      <td>1</td>\n",
       "      <td>Intel 386 or later processors and compatible p...</td>\n",
       "      <td>...</td>\n",
       "      <td>10</td>\n",
       "      <td>3</td>\n",
       "      <td>0</td>\n",
       "      <td>0</td>\n",
       "      <td>0</td>\n",
       "      <td>1</td>\n",
       "      <td>0</td>\n",
       "      <td>10</td>\n",
       "      <td>9</td>\n",
       "      <td>malware</td>\n",
       "    </tr>\n",
       "  </tbody>\n",
       "</table>\n",
       "<p>5 rows × 42 columns</p>\n",
       "</div>"
      ],
      "text/plain": [
       "   Unnamed: 0                                                SHA  \\\n",
       "0           0  b1fd9e79f22a7085af1a127b11fe15d05eeded2c0efca7...   \n",
       "1           1  321cb38eff1a85a0426dcf28707352af86078c810cee36...   \n",
       "2           2  663404cd54c9a0e7d4c278638f2de59e1970df9e80c1c3...   \n",
       "3           3  160fed659b4c9b24d0052e24bebfdc76a909c70636ef85...   \n",
       "4           4  32be84189044725082165df81f97fcb442867948d75dd7...   \n",
       "\n",
       "                                               Magic  File Type  \\\n",
       "0  PE32+ executable for MS Windows (DLL) (GUI) Mo...  Win32 DLL   \n",
       "1                   MS-DOS executable, MZ for MS-DOS  Win32 EXE   \n",
       "2  PE32 executable for MS Windows (GUI) Intel 803...  Win32 EXE   \n",
       "3                                                NaN        NaN   \n",
       "4  PE32 executable for MS Windows (GUI) Intel 803...  Win32 EXE   \n",
       "\n",
       "                  File Size        Creation Time        Last Analysis  \\\n",
       "0    13.96 KB (14296 bytes)                  NaN                  NaN   \n",
       "1    76.22 KB (78048 bytes)  1987-09-11 01:35:02  2020-05-09 13:13:19   \n",
       "2    50.50 KB (51712 bytes)  1999-11-23 03:10:42  2020-05-11 01:43:34   \n",
       "3                       NaN                  NaN                  NaN   \n",
       "4  165.75 KB (169727 bytes)  2004-08-05 21:49:16  2020-04-18 18:16:49   \n",
       "\n",
       "   No. of Names  Signature Info  \\\n",
       "0             2               1   \n",
       "1             8              -1   \n",
       "2            10              -1   \n",
       "3             0              -1   \n",
       "4            10               1   \n",
       "\n",
       "                                              Target  ...  \\\n",
       "0                                                NaN  ...   \n",
       "1  Intel 386 or later processors and compatible p...  ...   \n",
       "2  Intel 386 or later processors and compatible p...  ...   \n",
       "3                                                NaN  ...   \n",
       "4  Intel 386 or later processors and compatible p...  ...   \n",
       "\n",
       "   Registry Keys opened  Registry Keys deleted  Shell commands  \\\n",
       "0                     0                      0               0   \n",
       "1                    10                      0               0   \n",
       "2                     0                      0               0   \n",
       "3                    10                      0               0   \n",
       "4                    10                      3               0   \n",
       "\n",
       "   Processes created  Processes terminated  Services opened  Services created  \\\n",
       "0                  0                     0                0                 0   \n",
       "1                  0                     0                0                 0   \n",
       "2                  0                     0                0                 0   \n",
       "3                  0                     0                0                 0   \n",
       "4                  0                     0                1                 0   \n",
       "\n",
       "   Mutexes created  Mutexes opened    Class  \n",
       "0                0               0   benign  \n",
       "1                1               8  malware  \n",
       "2                0               0  malware  \n",
       "3               10               0   benign  \n",
       "4               10               9  malware  \n",
       "\n",
       "[5 rows x 42 columns]"
      ]
     },
     "execution_count": 3,
     "metadata": {},
     "output_type": "execute_result"
    }
   ],
   "source": [
    "data.head()"
   ]
  },
  {
   "cell_type": "code",
   "execution_count": 4,
   "metadata": {},
   "outputs": [],
   "source": [
    "#drop extra Index columns\n",
    "data=data.drop([\"Unnamed: 0\",\"Last Analysis\",\"Creation Time\",\"SHA\"],axis=1)"
   ]
  },
  {
   "cell_type": "code",
   "execution_count": 5,
   "metadata": {},
   "outputs": [
    {
     "data": {
      "text/html": [
       "<div>\n",
       "<style scoped>\n",
       "    .dataframe tbody tr th:only-of-type {\n",
       "        vertical-align: middle;\n",
       "    }\n",
       "\n",
       "    .dataframe tbody tr th {\n",
       "        vertical-align: top;\n",
       "    }\n",
       "\n",
       "    .dataframe thead th {\n",
       "        text-align: right;\n",
       "    }\n",
       "</style>\n",
       "<table border=\"1\" class=\"dataframe\">\n",
       "  <thead>\n",
       "    <tr style=\"text-align: right;\">\n",
       "      <th></th>\n",
       "      <th>Magic</th>\n",
       "      <th>File Type</th>\n",
       "      <th>File Size</th>\n",
       "      <th>No. of Names</th>\n",
       "      <th>Signature Info</th>\n",
       "      <th>Target</th>\n",
       "      <th>Entry Point</th>\n",
       "      <th>Max Entropy</th>\n",
       "      <th>Min Entropy</th>\n",
       "      <th>Mean Entropy</th>\n",
       "      <th>...</th>\n",
       "      <th>Registry Keys opened</th>\n",
       "      <th>Registry Keys deleted</th>\n",
       "      <th>Shell commands</th>\n",
       "      <th>Processes created</th>\n",
       "      <th>Processes terminated</th>\n",
       "      <th>Services opened</th>\n",
       "      <th>Services created</th>\n",
       "      <th>Mutexes created</th>\n",
       "      <th>Mutexes opened</th>\n",
       "      <th>Class</th>\n",
       "    </tr>\n",
       "  </thead>\n",
       "  <tbody>\n",
       "    <tr>\n",
       "      <th>0</th>\n",
       "      <td>PE32+ executable for MS Windows (DLL) (GUI) Mo...</td>\n",
       "      <td>Win32 DLL</td>\n",
       "      <td>13.96 KB (14296 bytes)</td>\n",
       "      <td>2</td>\n",
       "      <td>1</td>\n",
       "      <td>NaN</td>\n",
       "      <td>NaN</td>\n",
       "      <td>5.68</td>\n",
       "      <td>2.65</td>\n",
       "      <td>4.032</td>\n",
       "      <td>...</td>\n",
       "      <td>0</td>\n",
       "      <td>0</td>\n",
       "      <td>0</td>\n",
       "      <td>0</td>\n",
       "      <td>0</td>\n",
       "      <td>0</td>\n",
       "      <td>0</td>\n",
       "      <td>0</td>\n",
       "      <td>0</td>\n",
       "      <td>benign</td>\n",
       "    </tr>\n",
       "    <tr>\n",
       "      <th>1</th>\n",
       "      <td>MS-DOS executable, MZ for MS-DOS</td>\n",
       "      <td>Win32 EXE</td>\n",
       "      <td>76.22 KB (78048 bytes)</td>\n",
       "      <td>8</td>\n",
       "      <td>-1</td>\n",
       "      <td>Intel 386 or later processors and compatible p...</td>\n",
       "      <td>536028.0</td>\n",
       "      <td>0.00</td>\n",
       "      <td>100000.00</td>\n",
       "      <td>0.000</td>\n",
       "      <td>...</td>\n",
       "      <td>10</td>\n",
       "      <td>0</td>\n",
       "      <td>0</td>\n",
       "      <td>0</td>\n",
       "      <td>0</td>\n",
       "      <td>0</td>\n",
       "      <td>0</td>\n",
       "      <td>1</td>\n",
       "      <td>8</td>\n",
       "      <td>malware</td>\n",
       "    </tr>\n",
       "    <tr>\n",
       "      <th>2</th>\n",
       "      <td>PE32 executable for MS Windows (GUI) Intel 803...</td>\n",
       "      <td>Win32 EXE</td>\n",
       "      <td>50.50 KB (51712 bytes)</td>\n",
       "      <td>10</td>\n",
       "      <td>-1</td>\n",
       "      <td>Intel 386 or later processors and compatible p...</td>\n",
       "      <td>4096.0</td>\n",
       "      <td>6.53</td>\n",
       "      <td>0.00</td>\n",
       "      <td>3.204</td>\n",
       "      <td>...</td>\n",
       "      <td>0</td>\n",
       "      <td>0</td>\n",
       "      <td>0</td>\n",
       "      <td>0</td>\n",
       "      <td>0</td>\n",
       "      <td>0</td>\n",
       "      <td>0</td>\n",
       "      <td>0</td>\n",
       "      <td>0</td>\n",
       "      <td>malware</td>\n",
       "    </tr>\n",
       "    <tr>\n",
       "      <th>3</th>\n",
       "      <td>NaN</td>\n",
       "      <td>NaN</td>\n",
       "      <td>NaN</td>\n",
       "      <td>0</td>\n",
       "      <td>-1</td>\n",
       "      <td>NaN</td>\n",
       "      <td>NaN</td>\n",
       "      <td>0.00</td>\n",
       "      <td>100000.00</td>\n",
       "      <td>0.000</td>\n",
       "      <td>...</td>\n",
       "      <td>10</td>\n",
       "      <td>0</td>\n",
       "      <td>0</td>\n",
       "      <td>0</td>\n",
       "      <td>0</td>\n",
       "      <td>0</td>\n",
       "      <td>0</td>\n",
       "      <td>10</td>\n",
       "      <td>0</td>\n",
       "      <td>benign</td>\n",
       "    </tr>\n",
       "    <tr>\n",
       "      <th>4</th>\n",
       "      <td>PE32 executable for MS Windows (GUI) Intel 803...</td>\n",
       "      <td>Win32 EXE</td>\n",
       "      <td>165.75 KB (169727 bytes)</td>\n",
       "      <td>10</td>\n",
       "      <td>1</td>\n",
       "      <td>Intel 386 or later processors and compatible p...</td>\n",
       "      <td>6805.0</td>\n",
       "      <td>7.59</td>\n",
       "      <td>7.59</td>\n",
       "      <td>7.590</td>\n",
       "      <td>...</td>\n",
       "      <td>10</td>\n",
       "      <td>3</td>\n",
       "      <td>0</td>\n",
       "      <td>0</td>\n",
       "      <td>0</td>\n",
       "      <td>1</td>\n",
       "      <td>0</td>\n",
       "      <td>10</td>\n",
       "      <td>9</td>\n",
       "      <td>malware</td>\n",
       "    </tr>\n",
       "  </tbody>\n",
       "</table>\n",
       "<p>5 rows × 38 columns</p>\n",
       "</div>"
      ],
      "text/plain": [
       "                                               Magic  File Type  \\\n",
       "0  PE32+ executable for MS Windows (DLL) (GUI) Mo...  Win32 DLL   \n",
       "1                   MS-DOS executable, MZ for MS-DOS  Win32 EXE   \n",
       "2  PE32 executable for MS Windows (GUI) Intel 803...  Win32 EXE   \n",
       "3                                                NaN        NaN   \n",
       "4  PE32 executable for MS Windows (GUI) Intel 803...  Win32 EXE   \n",
       "\n",
       "                  File Size  No. of Names  Signature Info  \\\n",
       "0    13.96 KB (14296 bytes)             2               1   \n",
       "1    76.22 KB (78048 bytes)             8              -1   \n",
       "2    50.50 KB (51712 bytes)            10              -1   \n",
       "3                       NaN             0              -1   \n",
       "4  165.75 KB (169727 bytes)            10               1   \n",
       "\n",
       "                                              Target  Entry Point  \\\n",
       "0                                                NaN          NaN   \n",
       "1  Intel 386 or later processors and compatible p...     536028.0   \n",
       "2  Intel 386 or later processors and compatible p...       4096.0   \n",
       "3                                                NaN          NaN   \n",
       "4  Intel 386 or later processors and compatible p...       6805.0   \n",
       "\n",
       "   Max Entropy  Min Entropy  Mean Entropy  ...  Registry Keys opened  \\\n",
       "0         5.68         2.65         4.032  ...                     0   \n",
       "1         0.00    100000.00         0.000  ...                    10   \n",
       "2         6.53         0.00         3.204  ...                     0   \n",
       "3         0.00    100000.00         0.000  ...                    10   \n",
       "4         7.59         7.59         7.590  ...                    10   \n",
       "\n",
       "   Registry Keys deleted  Shell commands  Processes created  \\\n",
       "0                      0               0                  0   \n",
       "1                      0               0                  0   \n",
       "2                      0               0                  0   \n",
       "3                      0               0                  0   \n",
       "4                      3               0                  0   \n",
       "\n",
       "   Processes terminated  Services opened  Services created  Mutexes created  \\\n",
       "0                     0                0                 0                0   \n",
       "1                     0                0                 0                1   \n",
       "2                     0                0                 0                0   \n",
       "3                     0                0                 0               10   \n",
       "4                     0                1                 0               10   \n",
       "\n",
       "   Mutexes opened    Class  \n",
       "0               0   benign  \n",
       "1               8  malware  \n",
       "2               0  malware  \n",
       "3               0   benign  \n",
       "4               9  malware  \n",
       "\n",
       "[5 rows x 38 columns]"
      ]
     },
     "execution_count": 5,
     "metadata": {},
     "output_type": "execute_result"
    }
   ],
   "source": [
    "data.head()"
   ]
  },
  {
   "cell_type": "code",
   "execution_count": 6,
   "metadata": {},
   "outputs": [
    {
     "data": {
      "text/html": [
       "<div>\n",
       "<style scoped>\n",
       "    .dataframe tbody tr th:only-of-type {\n",
       "        vertical-align: middle;\n",
       "    }\n",
       "\n",
       "    .dataframe tbody tr th {\n",
       "        vertical-align: top;\n",
       "    }\n",
       "\n",
       "    .dataframe thead th {\n",
       "        text-align: right;\n",
       "    }\n",
       "</style>\n",
       "<table border=\"1\" class=\"dataframe\">\n",
       "  <thead>\n",
       "    <tr style=\"text-align: right;\">\n",
       "      <th></th>\n",
       "      <th>No. of Names</th>\n",
       "      <th>Signature Info</th>\n",
       "      <th>Entry Point</th>\n",
       "      <th>Max Entropy</th>\n",
       "      <th>Min Entropy</th>\n",
       "      <th>Mean Entropy</th>\n",
       "      <th>Total Size Diffrence</th>\n",
       "      <th>Imports</th>\n",
       "      <th>Contained Resources By Language</th>\n",
       "      <th>Overlay Present</th>\n",
       "      <th>...</th>\n",
       "      <th>Files dropped</th>\n",
       "      <th>Registry Keys opened</th>\n",
       "      <th>Registry Keys deleted</th>\n",
       "      <th>Shell commands</th>\n",
       "      <th>Processes created</th>\n",
       "      <th>Processes terminated</th>\n",
       "      <th>Services opened</th>\n",
       "      <th>Services created</th>\n",
       "      <th>Mutexes created</th>\n",
       "      <th>Mutexes opened</th>\n",
       "    </tr>\n",
       "  </thead>\n",
       "  <tbody>\n",
       "    <tr>\n",
       "      <th>count</th>\n",
       "      <td>10558.000000</td>\n",
       "      <td>10558.000000</td>\n",
       "      <td>6.934000e+03</td>\n",
       "      <td>9883.000000</td>\n",
       "      <td>9883.000000</td>\n",
       "      <td>9883.000000</td>\n",
       "      <td>8.245000e+03</td>\n",
       "      <td>6117.000000</td>\n",
       "      <td>6009.000000</td>\n",
       "      <td>8245.000000</td>\n",
       "      <td>...</td>\n",
       "      <td>10558.000000</td>\n",
       "      <td>10558.000000</td>\n",
       "      <td>10558.000000</td>\n",
       "      <td>10558.000000</td>\n",
       "      <td>10558.000000</td>\n",
       "      <td>10558.000000</td>\n",
       "      <td>10558.000000</td>\n",
       "      <td>10558.000000</td>\n",
       "      <td>10558.000000</td>\n",
       "      <td>10558.000000</td>\n",
       "    </tr>\n",
       "    <tr>\n",
       "      <th>mean</th>\n",
       "      <td>5.497253</td>\n",
       "      <td>-0.174086</td>\n",
       "      <td>2.694894e+05</td>\n",
       "      <td>4.137464</td>\n",
       "      <td>34302.475610</td>\n",
       "      <td>2.769948</td>\n",
       "      <td>1.322273e+06</td>\n",
       "      <td>38.865947</td>\n",
       "      <td>1.351140</td>\n",
       "      <td>-0.026076</td>\n",
       "      <td>...</td>\n",
       "      <td>0.262076</td>\n",
       "      <td>2.288217</td>\n",
       "      <td>0.345899</td>\n",
       "      <td>0.013071</td>\n",
       "      <td>0.218413</td>\n",
       "      <td>0.260940</td>\n",
       "      <td>0.136484</td>\n",
       "      <td>0.013071</td>\n",
       "      <td>1.924986</td>\n",
       "      <td>0.820515</td>\n",
       "    </tr>\n",
       "    <tr>\n",
       "      <th>std</th>\n",
       "      <td>4.259035</td>\n",
       "      <td>0.984777</td>\n",
       "      <td>2.271216e+06</td>\n",
       "      <td>3.088377</td>\n",
       "      <td>47473.158312</td>\n",
       "      <td>2.201737</td>\n",
       "      <td>6.822647e+07</td>\n",
       "      <td>26.729576</td>\n",
       "      <td>0.741698</td>\n",
       "      <td>0.999721</td>\n",
       "      <td>...</td>\n",
       "      <td>2.095472</td>\n",
       "      <td>4.153673</td>\n",
       "      <td>1.259191</td>\n",
       "      <td>0.120856</td>\n",
       "      <td>0.931404</td>\n",
       "      <td>0.927009</td>\n",
       "      <td>0.723254</td>\n",
       "      <td>0.120856</td>\n",
       "      <td>3.491211</td>\n",
       "      <td>2.279738</td>\n",
       "    </tr>\n",
       "    <tr>\n",
       "      <th>min</th>\n",
       "      <td>0.000000</td>\n",
       "      <td>-1.000000</td>\n",
       "      <td>0.000000e+00</td>\n",
       "      <td>0.000000</td>\n",
       "      <td>0.000000</td>\n",
       "      <td>0.000000</td>\n",
       "      <td>0.000000e+00</td>\n",
       "      <td>1.000000</td>\n",
       "      <td>0.000000</td>\n",
       "      <td>-1.000000</td>\n",
       "      <td>...</td>\n",
       "      <td>0.000000</td>\n",
       "      <td>0.000000</td>\n",
       "      <td>0.000000</td>\n",
       "      <td>0.000000</td>\n",
       "      <td>0.000000</td>\n",
       "      <td>0.000000</td>\n",
       "      <td>0.000000</td>\n",
       "      <td>0.000000</td>\n",
       "      <td>0.000000</td>\n",
       "      <td>0.000000</td>\n",
       "    </tr>\n",
       "    <tr>\n",
       "      <th>25%</th>\n",
       "      <td>1.000000</td>\n",
       "      <td>-1.000000</td>\n",
       "      <td>6.678250e+03</td>\n",
       "      <td>0.000000</td>\n",
       "      <td>0.540000</td>\n",
       "      <td>0.000000</td>\n",
       "      <td>7.120000e+02</td>\n",
       "      <td>14.000000</td>\n",
       "      <td>1.000000</td>\n",
       "      <td>-1.000000</td>\n",
       "      <td>...</td>\n",
       "      <td>0.000000</td>\n",
       "      <td>0.000000</td>\n",
       "      <td>0.000000</td>\n",
       "      <td>0.000000</td>\n",
       "      <td>0.000000</td>\n",
       "      <td>0.000000</td>\n",
       "      <td>0.000000</td>\n",
       "      <td>0.000000</td>\n",
       "      <td>0.000000</td>\n",
       "      <td>0.000000</td>\n",
       "    </tr>\n",
       "    <tr>\n",
       "      <th>50%</th>\n",
       "      <td>8.000000</td>\n",
       "      <td>-1.000000</td>\n",
       "      <td>3.206800e+04</td>\n",
       "      <td>5.900000</td>\n",
       "      <td>3.210000</td>\n",
       "      <td>3.358000</td>\n",
       "      <td>2.340000e+03</td>\n",
       "      <td>33.000000</td>\n",
       "      <td>1.000000</td>\n",
       "      <td>-1.000000</td>\n",
       "      <td>...</td>\n",
       "      <td>0.000000</td>\n",
       "      <td>0.000000</td>\n",
       "      <td>0.000000</td>\n",
       "      <td>0.000000</td>\n",
       "      <td>0.000000</td>\n",
       "      <td>0.000000</td>\n",
       "      <td>0.000000</td>\n",
       "      <td>0.000000</td>\n",
       "      <td>0.000000</td>\n",
       "      <td>0.000000</td>\n",
       "    </tr>\n",
       "    <tr>\n",
       "      <th>75%</th>\n",
       "      <td>10.000000</td>\n",
       "      <td>1.000000</td>\n",
       "      <td>1.766285e+05</td>\n",
       "      <td>6.450000</td>\n",
       "      <td>100000.000000</td>\n",
       "      <td>4.595000</td>\n",
       "      <td>9.728000e+03</td>\n",
       "      <td>63.000000</td>\n",
       "      <td>2.000000</td>\n",
       "      <td>1.000000</td>\n",
       "      <td>...</td>\n",
       "      <td>0.000000</td>\n",
       "      <td>0.000000</td>\n",
       "      <td>0.000000</td>\n",
       "      <td>0.000000</td>\n",
       "      <td>0.000000</td>\n",
       "      <td>0.000000</td>\n",
       "      <td>0.000000</td>\n",
       "      <td>0.000000</td>\n",
       "      <td>1.000000</td>\n",
       "      <td>0.000000</td>\n",
       "    </tr>\n",
       "    <tr>\n",
       "      <th>max</th>\n",
       "      <td>17.000000</td>\n",
       "      <td>1.000000</td>\n",
       "      <td>1.704960e+08</td>\n",
       "      <td>8.000000</td>\n",
       "      <td>100000.000000</td>\n",
       "      <td>7.990000</td>\n",
       "      <td>4.278204e+09</td>\n",
       "      <td>108.000000</td>\n",
       "      <td>10.000000</td>\n",
       "      <td>1.000000</td>\n",
       "      <td>...</td>\n",
       "      <td>20.000000</td>\n",
       "      <td>10.000000</td>\n",
       "      <td>10.000000</td>\n",
       "      <td>2.000000</td>\n",
       "      <td>10.000000</td>\n",
       "      <td>10.000000</td>\n",
       "      <td>10.000000</td>\n",
       "      <td>2.000000</td>\n",
       "      <td>10.000000</td>\n",
       "      <td>10.000000</td>\n",
       "    </tr>\n",
       "  </tbody>\n",
       "</table>\n",
       "<p>8 rows × 33 columns</p>\n",
       "</div>"
      ],
      "text/plain": [
       "       No. of Names  Signature Info   Entry Point  Max Entropy    Min Entropy  \\\n",
       "count  10558.000000    10558.000000  6.934000e+03  9883.000000    9883.000000   \n",
       "mean       5.497253       -0.174086  2.694894e+05     4.137464   34302.475610   \n",
       "std        4.259035        0.984777  2.271216e+06     3.088377   47473.158312   \n",
       "min        0.000000       -1.000000  0.000000e+00     0.000000       0.000000   \n",
       "25%        1.000000       -1.000000  6.678250e+03     0.000000       0.540000   \n",
       "50%        8.000000       -1.000000  3.206800e+04     5.900000       3.210000   \n",
       "75%       10.000000        1.000000  1.766285e+05     6.450000  100000.000000   \n",
       "max       17.000000        1.000000  1.704960e+08     8.000000  100000.000000   \n",
       "\n",
       "       Mean Entropy  Total Size Diffrence      Imports  \\\n",
       "count   9883.000000          8.245000e+03  6117.000000   \n",
       "mean       2.769948          1.322273e+06    38.865947   \n",
       "std        2.201737          6.822647e+07    26.729576   \n",
       "min        0.000000          0.000000e+00     1.000000   \n",
       "25%        0.000000          7.120000e+02    14.000000   \n",
       "50%        3.358000          2.340000e+03    33.000000   \n",
       "75%        4.595000          9.728000e+03    63.000000   \n",
       "max        7.990000          4.278204e+09   108.000000   \n",
       "\n",
       "       Contained Resources By Language  Overlay Present  ...  Files dropped  \\\n",
       "count                      6009.000000      8245.000000  ...   10558.000000   \n",
       "mean                          1.351140        -0.026076  ...       0.262076   \n",
       "std                           0.741698         0.999721  ...       2.095472   \n",
       "min                           0.000000        -1.000000  ...       0.000000   \n",
       "25%                           1.000000        -1.000000  ...       0.000000   \n",
       "50%                           1.000000        -1.000000  ...       0.000000   \n",
       "75%                           2.000000         1.000000  ...       0.000000   \n",
       "max                          10.000000         1.000000  ...      20.000000   \n",
       "\n",
       "       Registry Keys opened  Registry Keys deleted  Shell commands  \\\n",
       "count          10558.000000           10558.000000    10558.000000   \n",
       "mean               2.288217               0.345899        0.013071   \n",
       "std                4.153673               1.259191        0.120856   \n",
       "min                0.000000               0.000000        0.000000   \n",
       "25%                0.000000               0.000000        0.000000   \n",
       "50%                0.000000               0.000000        0.000000   \n",
       "75%                0.000000               0.000000        0.000000   \n",
       "max               10.000000              10.000000        2.000000   \n",
       "\n",
       "       Processes created  Processes terminated  Services opened  \\\n",
       "count       10558.000000          10558.000000     10558.000000   \n",
       "mean            0.218413              0.260940         0.136484   \n",
       "std             0.931404              0.927009         0.723254   \n",
       "min             0.000000              0.000000         0.000000   \n",
       "25%             0.000000              0.000000         0.000000   \n",
       "50%             0.000000              0.000000         0.000000   \n",
       "75%             0.000000              0.000000         0.000000   \n",
       "max            10.000000             10.000000        10.000000   \n",
       "\n",
       "       Services created  Mutexes created  Mutexes opened  \n",
       "count      10558.000000     10558.000000    10558.000000  \n",
       "mean           0.013071         1.924986        0.820515  \n",
       "std            0.120856         3.491211        2.279738  \n",
       "min            0.000000         0.000000        0.000000  \n",
       "25%            0.000000         0.000000        0.000000  \n",
       "50%            0.000000         0.000000        0.000000  \n",
       "75%            0.000000         1.000000        0.000000  \n",
       "max            2.000000        10.000000       10.000000  \n",
       "\n",
       "[8 rows x 33 columns]"
      ]
     },
     "execution_count": 6,
     "metadata": {},
     "output_type": "execute_result"
    }
   ],
   "source": [
    "#Data Description\n",
    "data.describe()"
   ]
  },
  {
   "cell_type": "code",
   "execution_count": 7,
   "metadata": {},
   "outputs": [
    {
     "name": "stdout",
     "output_type": "stream",
     "text": [
      "<class 'pandas.core.frame.DataFrame'>\n",
      "RangeIndex: 10558 entries, 0 to 10557\n",
      "Data columns (total 38 columns):\n",
      " #   Column                           Non-Null Count  Dtype  \n",
      "---  ------                           --------------  -----  \n",
      " 0   Magic                            8245 non-null   object \n",
      " 1   File Type                        8245 non-null   object \n",
      " 2   File Size                        8245 non-null   object \n",
      " 3   No. of Names                     10558 non-null  int64  \n",
      " 4   Signature Info                   10558 non-null  int64  \n",
      " 5   Target                           6934 non-null   object \n",
      " 6   Entry Point                      6934 non-null   float64\n",
      " 7   Max Entropy                      9883 non-null   float64\n",
      " 8   Min Entropy                      9883 non-null   float64\n",
      " 9   Mean Entropy                     9883 non-null   float64\n",
      " 10  Total Size Diffrence             8245 non-null   float64\n",
      " 11  Imports                          6117 non-null   float64\n",
      " 12  Contained Resources By Language  6009 non-null   float64\n",
      " 13  Overlay Present                  8245 non-null   float64\n",
      " 14  Contacted Domains                10558 non-null  int64  \n",
      " 15  Contacted IP Addresses           10558 non-null  int64  \n",
      " 16  Contacted URLs                   10558 non-null  int64  \n",
      " 17  Execution Parents                10558 non-null  int64  \n",
      " 18  PE Resource Parents              10558 non-null  int64  \n",
      " 19  Bundled Files                    10558 non-null  int64  \n",
      " 20  PE Resource Children             10558 non-null  int64  \n",
      " 21  DNS Resolutions                  10558 non-null  int64  \n",
      " 22  http request                     10558 non-null  int64  \n",
      " 23  Files opened                     10558 non-null  int64  \n",
      " 24  Files written                    10558 non-null  int64  \n",
      " 25  Files deleted                    10558 non-null  int64  \n",
      " 26  Files copied                     10558 non-null  int64  \n",
      " 27  Files dropped                    10558 non-null  int64  \n",
      " 28  Registry Keys opened             10558 non-null  int64  \n",
      " 29  Registry Keys deleted            10558 non-null  int64  \n",
      " 30  Shell commands                   10558 non-null  int64  \n",
      " 31  Processes created                10558 non-null  int64  \n",
      " 32  Processes terminated             10558 non-null  int64  \n",
      " 33  Services opened                  10558 non-null  int64  \n",
      " 34  Services created                 10558 non-null  int64  \n",
      " 35  Mutexes created                  10558 non-null  int64  \n",
      " 36  Mutexes opened                   10558 non-null  int64  \n",
      " 37  Class                            10558 non-null  object \n",
      "dtypes: float64(8), int64(25), object(5)\n",
      "memory usage: 3.1+ MB\n"
     ]
    }
   ],
   "source": [
    "#Data Information\n",
    "data.info()"
   ]
  },
  {
   "cell_type": "code",
   "execution_count": 8,
   "metadata": {},
   "outputs": [
    {
     "data": {
      "text/plain": [
       "Magic                              2313\n",
       "File Type                          2313\n",
       "File Size                          2313\n",
       "No. of Names                          0\n",
       "Signature Info                        0\n",
       "Target                             3624\n",
       "Entry Point                        3624\n",
       "Max Entropy                         675\n",
       "Min Entropy                         675\n",
       "Mean Entropy                        675\n",
       "Total Size Diffrence               2313\n",
       "Imports                            4441\n",
       "Contained Resources By Language    4549\n",
       "Overlay Present                    2313\n",
       "Contacted Domains                     0\n",
       "Contacted IP Addresses                0\n",
       "Contacted URLs                        0\n",
       "Execution Parents                     0\n",
       "PE Resource Parents                   0\n",
       "Bundled Files                         0\n",
       "PE Resource Children                  0\n",
       "DNS Resolutions                       0\n",
       "http request                          0\n",
       "Files opened                          0\n",
       "Files written                         0\n",
       "Files deleted                         0\n",
       "Files copied                          0\n",
       "Files dropped                         0\n",
       "Registry Keys opened                  0\n",
       "Registry Keys deleted                 0\n",
       "Shell commands                        0\n",
       "Processes created                     0\n",
       "Processes terminated                  0\n",
       "Services opened                       0\n",
       "Services created                      0\n",
       "Mutexes created                       0\n",
       "Mutexes opened                        0\n",
       "Class                                 0\n",
       "dtype: int64"
      ]
     },
     "execution_count": 8,
     "metadata": {},
     "output_type": "execute_result"
    }
   ],
   "source": [
    "data.isnull().sum()"
   ]
  },
  {
   "cell_type": "markdown",
   "metadata": {},
   "source": [
    "## Filling Null Values"
   ]
  },
  {
   "cell_type": "code",
   "execution_count": 9,
   "metadata": {},
   "outputs": [],
   "source": [
    "data[\"Total Size Diffrence\"].fillna(0,inplace=True)        "
   ]
  },
  {
   "cell_type": "code",
   "execution_count": 10,
   "metadata": {},
   "outputs": [
    {
     "data": {
      "text/plain": [
       "0"
      ]
     },
     "execution_count": 10,
     "metadata": {},
     "output_type": "execute_result"
    }
   ],
   "source": [
    "data[\"Total Size Diffrence\"].isnull().sum()"
   ]
  },
  {
   "cell_type": "code",
   "execution_count": 11,
   "metadata": {},
   "outputs": [
    {
     "data": {
      "text/plain": [
       "0"
      ]
     },
     "execution_count": 11,
     "metadata": {},
     "output_type": "execute_result"
    }
   ],
   "source": [
    "data['File Size'].fillna(\"0 KB\",inplace=True)\n",
    "data['File Size'].isnull().sum()"
   ]
  },
  {
   "cell_type": "code",
   "execution_count": 12,
   "metadata": {},
   "outputs": [],
   "source": [
    "def fill(i):\n",
    "    m=i.split(\" \")\n",
    "    if(m[1].lower()==\"mb\"):\n",
    "        #print(m[1])\n",
    "        return 1000*float(m[0])\n",
    "    return float(m[0])    "
   ]
  },
  {
   "cell_type": "code",
   "execution_count": 13,
   "metadata": {},
   "outputs": [],
   "source": [
    "data['File Size']=data['File Size'].apply(fill)"
   ]
  },
  {
   "cell_type": "code",
   "execution_count": 14,
   "metadata": {},
   "outputs": [
    {
     "data": {
      "text/plain": [
       "0         13.96\n",
       "1         76.22\n",
       "2         50.50\n",
       "3          0.00\n",
       "4        165.75\n",
       "          ...  \n",
       "10553    308.00\n",
       "10554    278.00\n",
       "10555     49.50\n",
       "10556    207.40\n",
       "10557     97.00\n",
       "Name: File Size, Length: 10558, dtype: float64"
      ]
     },
     "execution_count": 14,
     "metadata": {},
     "output_type": "execute_result"
    }
   ],
   "source": [
    "data['File Size']"
   ]
  },
  {
   "cell_type": "code",
   "execution_count": 15,
   "metadata": {},
   "outputs": [
    {
     "data": {
      "text/plain": [
       "0         13.96\n",
       "1         76.22\n",
       "2         50.50\n",
       "3          0.00\n",
       "4        165.75\n",
       "          ...  \n",
       "10553    308.00\n",
       "10554    278.00\n",
       "10555     49.50\n",
       "10556    207.40\n",
       "10557     97.00\n",
       "Name: File Size, Length: 10558, dtype: float64"
      ]
     },
     "execution_count": 15,
     "metadata": {},
     "output_type": "execute_result"
    }
   ],
   "source": [
    "data['File Size'].astype('float')"
   ]
  },
  {
   "cell_type": "code",
   "execution_count": 16,
   "metadata": {},
   "outputs": [
    {
     "data": {
      "text/plain": [
       "0        5.68\n",
       "1        0.00\n",
       "2        6.53\n",
       "3        0.00\n",
       "4        7.59\n",
       "         ... \n",
       "10553    0.00\n",
       "10554     NaN\n",
       "10555    6.27\n",
       "10556    6.65\n",
       "10557    7.99\n",
       "Name: Max Entropy, Length: 10558, dtype: float64"
      ]
     },
     "execution_count": 16,
     "metadata": {},
     "output_type": "execute_result"
    }
   ],
   "source": [
    "data[\"Max Entropy\"]"
   ]
  },
  {
   "cell_type": "code",
   "execution_count": 17,
   "metadata": {},
   "outputs": [],
   "source": [
    "def replace(i):\n",
    "    if(i==0.00):\n",
    "        return None\n",
    "    return i"
   ]
  },
  {
   "cell_type": "code",
   "execution_count": 18,
   "metadata": {},
   "outputs": [],
   "source": [
    "data[\"Max Entropy\"]=data[\"Max Entropy\"].apply(replace)"
   ]
  },
  {
   "cell_type": "code",
   "execution_count": 19,
   "metadata": {},
   "outputs": [
    {
     "data": {
      "text/plain": [
       "0        5.68\n",
       "1         NaN\n",
       "2        6.53\n",
       "3         NaN\n",
       "4        7.59\n",
       "         ... \n",
       "10553     NaN\n",
       "10554     NaN\n",
       "10555    6.27\n",
       "10556    6.65\n",
       "10557    7.99\n",
       "Name: Max Entropy, Length: 10558, dtype: float64"
      ]
     },
     "execution_count": 19,
     "metadata": {},
     "output_type": "execute_result"
    }
   ],
   "source": [
    "data[\"Max Entropy\"]"
   ]
  },
  {
   "cell_type": "code",
   "execution_count": 20,
   "metadata": {},
   "outputs": [
    {
     "data": {
      "text/plain": [
       "<matplotlib.axes._subplots.AxesSubplot at 0x2ec46d944f0>"
      ]
     },
     "execution_count": 20,
     "metadata": {},
     "output_type": "execute_result"
    },
    {
     "data": {
      "image/png": "[encoded data removed]",
      "text/plain": [
       "<Figure size 432x288 with 1 Axes>"
      ]
     },
     "metadata": {
      "needs_background": "light"
     },
     "output_type": "display_data"
    }
   ],
   "source": [
    "sns.distplot(data[\"Max Entropy\"])"
   ]
  },
  {
   "cell_type": "markdown",
   "metadata": {},
   "source": [
    "### Since this is a right skewed distribution curve we replace the null values with the median of the attribute"
   ]
  },
  {
   "cell_type": "code",
   "execution_count": 21,
   "metadata": {},
   "outputs": [],
   "source": [
    "data[\"Max Entropy\"].fillna(data[\"Max Entropy\"].median(),inplace=True)"
   ]
  },
  {
   "cell_type": "code",
   "execution_count": 22,
   "metadata": {},
   "outputs": [],
   "source": [
    "def con(i):\n",
    "    if(i==100000.0):\n",
    "        return None\n",
    "    return i"
   ]
  },
  {
   "cell_type": "code",
   "execution_count": 23,
   "metadata": {},
   "outputs": [],
   "source": [
    "data[\"Min Entropy\"]=data[\"Min Entropy\"].apply(con)"
   ]
  },
  {
   "cell_type": "code",
   "execution_count": 24,
   "metadata": {},
   "outputs": [
    {
     "data": {
      "text/plain": [
       "<matplotlib.axes._subplots.AxesSubplot at 0x2ec31c9c250>"
      ]
     },
     "execution_count": 24,
     "metadata": {},
     "output_type": "execute_result"
    },
    {
     "data": {
      "image/png": "[encoded data removed]",
      "text/plain": [
       "<Figure size 432x288 with 1 Axes>"
      ]
     },
     "metadata": {
      "needs_background": "light"
     },
     "output_type": "display_data"
    }
   ],
   "source": [
    "sns.distplot(data[\"Min Entropy\"])"
   ]
  },
  {
   "cell_type": "markdown",
   "metadata": {},
   "source": [
    "### Since this is a Left Skewed distribution curve we replace the null values with the median of the attribute"
   ]
  },
  {
   "cell_type": "code",
   "execution_count": 25,
   "metadata": {},
   "outputs": [],
   "source": [
    "data[\"Min Entropy\"].fillna(data[\"Min Entropy\"].median(),inplace=True)"
   ]
  },
  {
   "cell_type": "code",
   "execution_count": 26,
   "metadata": {},
   "outputs": [],
   "source": [
    "data[\"Mean Entropy\"]=data[\"Mean Entropy\"].apply(replace)"
   ]
  },
  {
   "cell_type": "code",
   "execution_count": 27,
   "metadata": {},
   "outputs": [
    {
     "data": {
      "text/plain": [
       "<matplotlib.axes._subplots.AxesSubplot at 0x2ec47279fa0>"
      ]
     },
     "execution_count": 27,
     "metadata": {},
     "output_type": "execute_result"
    },
    {
     "data": {
      "image/png": "[encoded data removed]",
      "text/plain": [
       "<Figure size 432x288 with 1 Axes>"
      ]
     },
     "metadata": {
      "needs_background": "light"
     },
     "output_type": "display_data"
    }
   ],
   "source": [
    "sns.distplot(data[\"Mean Entropy\"])"
   ]
  },
  {
   "cell_type": "markdown",
   "metadata": {},
   "source": [
    "### Since this is a Normal distribution curve we replace the null values with the mean of the attribute"
   ]
  },
  {
   "cell_type": "code",
   "execution_count": 28,
   "metadata": {},
   "outputs": [],
   "source": [
    "data[\"Mean Entropy\"].fillna(data[\"Mean Entropy\"].mean(),inplace=True)"
   ]
  },
  {
   "cell_type": "code",
   "execution_count": 29,
   "metadata": {},
   "outputs": [],
   "source": [
    "data[\"Imports\"].fillna(0,inplace=True)\n",
    "data[\"Contained Resources By Language\"].fillna(0,inplace=True)\n",
    "data[\"Overlay Present\"].fillna(-1,inplace=True)"
   ]
  },
  {
   "cell_type": "code",
   "execution_count": 30,
   "metadata": {},
   "outputs": [],
   "source": [
    "data[\"Magic\"].fillna(\" \",inplace=True)\n",
    "data[\"Target\"].fillna(\" \",inplace=True)\n",
    "data[\"File Type\"].fillna(\" \",inplace=True)\n",
    "data[\"Entry Point\"].fillna(0,inplace=True)"
   ]
  },
  {
   "cell_type": "markdown",
   "metadata": {},
   "source": [
    "## Spliting dependent and independent Variables\n",
    "### Here dependent variable is the \"Class\" and rest all are independent variables and then go for encoding"
   ]
  },
  {
   "cell_type": "code",
   "execution_count": 31,
   "metadata": {},
   "outputs": [],
   "source": [
    "indp=data.iloc[:,:-1].values\n",
    "dep=data.iloc[:,-1].values"
   ]
  },
  {
   "cell_type": "markdown",
   "metadata": {},
   "source": [
    "### Label Encoding of Class Variable "
   ]
  },
  {
   "cell_type": "code",
   "execution_count": 32,
   "metadata": {},
   "outputs": [],
   "source": [
    "from sklearn.preprocessing import LabelEncoder\n",
    "le=LabelEncoder()"
   ]
  },
  {
   "cell_type": "code",
   "execution_count": 33,
   "metadata": {},
   "outputs": [
    {
     "data": {
      "text/plain": [
       "array([0, 1, 1, ..., 1, 0, 1])"
      ]
     },
     "execution_count": 33,
     "metadata": {},
     "output_type": "execute_result"
    }
   ],
   "source": [
    "dep = le.fit_transform(dep)\n",
    "dep"
   ]
  },
  {
   "cell_type": "markdown",
   "metadata": {},
   "source": [
    "###  One hot encoding of \"Magic\", \"File Type\",\"Target\""
   ]
  },
  {
   "cell_type": "code",
   "execution_count": 34,
   "metadata": {},
   "outputs": [],
   "source": [
    "from sklearn.compose import ColumnTransformer\n",
    "from sklearn.preprocessing import OneHotEncoder"
   ]
  },
  {
   "cell_type": "code",
   "execution_count": 35,
   "metadata": {},
   "outputs": [],
   "source": [
    "ct = ColumnTransformer([(\"ohe\",OneHotEncoder(drop=\"first\"),[0,1,5])],remainder=\"passthrough\")\n",
    "indp = ct.fit_transform(indp)"
   ]
  },
  {
   "cell_type": "markdown",
   "metadata": {},
   "source": [
    "### Scaling the data..."
   ]
  },
  {
   "cell_type": "code",
   "execution_count": 36,
   "metadata": {},
   "outputs": [
    {
     "data": {
      "text/plain": [
       "array([[0. , 0. , 0. , ..., 0. , 0. , 0. ],\n",
       "       [0. , 0. , 0. , ..., 0. , 0.1, 0.8],\n",
       "       [0. , 0. , 0. , ..., 0. , 0. , 0. ],\n",
       "       ...,\n",
       "       [0. , 0. , 0. , ..., 0. , 0. , 0. ],\n",
       "       [0. , 0. , 0. , ..., 0. , 0. , 0. ],\n",
       "       [0. , 0. , 0. , ..., 0. , 0.8, 0.1]])"
      ]
     },
     "execution_count": 36,
     "metadata": {},
     "output_type": "execute_result"
    }
   ],
   "source": [
    "from sklearn.preprocessing import MinMaxScaler\n",
    "ms = MinMaxScaler()\n",
    "ms_indp = ms.fit_transform(indp)\n",
    "ms_indp"
   ]
  },
  {
   "cell_type": "markdown",
   "metadata": {},
   "source": [
    "## Now we split the cleaned dataset into train and test "
   ]
  },
  {
   "cell_type": "code",
   "execution_count": 37,
   "metadata": {},
   "outputs": [],
   "source": [
    "from sklearn.model_selection import train_test_split"
   ]
  },
  {
   "cell_type": "code",
   "execution_count": 38,
   "metadata": {},
   "outputs": [],
   "source": [
    "X_train,X_test,Y_train,Y_test=train_test_split(indp,dep,test_size=0.2,random_state=1)"
   ]
  },
  {
   "cell_type": "code",
   "execution_count": 39,
   "metadata": {},
   "outputs": [
    {
     "data": {
      "text/plain": [
       "((8446, 96), (8446,), (2112, 96), (2112,))"
      ]
     },
     "execution_count": 39,
     "metadata": {},
     "output_type": "execute_result"
    }
   ],
   "source": [
    "X_train.shape,Y_train.shape,X_test.shape,Y_test.shape"
   ]
  },
  {
   "cell_type": "markdown",
   "metadata": {},
   "source": [
    "## Now we implement Deep Learning Algorithms on processed data"
   ]
  },
  {
   "cell_type": "markdown",
   "metadata": {},
   "source": [
    "### 1) Multilayer Perceptron Network"
   ]
  },
  {
   "cell_type": "code",
   "execution_count": 40,
   "metadata": {},
   "outputs": [],
   "source": [
    "from sklearn.neural_network import MLPClassifier\n",
    "from sklearn.metrics import confusion_matrix,accuracy_score"
   ]
  },
  {
   "cell_type": "code",
   "execution_count": 41,
   "metadata": {},
   "outputs": [],
   "source": [
    "clf=MLPClassifier(hidden_layer_sizes=(80,),max_iter=7000,alpha=0.1,learning_rate='invscaling') #(100,100), 300\n"
   ]
  },
  {
   "cell_type": "code",
   "execution_count": 42,
   "metadata": {},
   "outputs": [
    {
     "data": {
      "text/plain": [
       "MLPClassifier(alpha=0.1, hidden_layer_sizes=(80,), learning_rate='invscaling',\n",
       "              max_iter=7000)"
      ]
     },
     "execution_count": 42,
     "metadata": {},
     "output_type": "execute_result"
    }
   ],
   "source": [
    "clf.fit(X_train,Y_train)"
   ]
  },
  {
   "cell_type": "code",
   "execution_count": 43,
   "metadata": {},
   "outputs": [],
   "source": [
    "preds=clf.predict(X_test)"
   ]
  },
  {
   "cell_type": "code",
   "execution_count": 44,
   "metadata": {},
   "outputs": [
    {
     "data": {
      "text/plain": [
       "<matplotlib.axes._subplots.AxesSubplot at 0x2ec47837700>"
      ]
     },
     "execution_count": 44,
     "metadata": {},
     "output_type": "execute_result"
    },
    {
     "data": {
      "image/png": "[encoded data removed]",
      "text/plain": [
       "<Figure size 432x288 with 2 Axes>"
      ]
     },
     "metadata": {
      "needs_background": "light"
     },
     "output_type": "display_data"
    }
   ],
   "source": [
    "lr_con = confusion_matrix(preds,Y_test)\n",
    "sns.heatmap(lr_con, annot=True)"
   ]
  },
  {
   "cell_type": "code",
   "execution_count": 46,
   "metadata": {},
   "outputs": [
    {
     "data": {
      "text/plain": [
       "0.7807765151515151"
      ]
     },
     "execution_count": 46,
     "metadata": {},
     "output_type": "execute_result"
    }
   ],
   "source": [
    "accuracy_score(preds,Y_test)"
   ]
  },
  {
   "cell_type": "code",
   "execution_count": null,
   "metadata": {},
   "outputs": [],
   "source": []
  }
 ],
 "metadata": {
  "kernelspec": {
   "display_name": "Python 3",
   "language": "python",
   "name": "python3"
  },
  "language_info": {
   "codemirror_mode": {
    "name": "ipython",
    "version": 3
   },
   "file_extension": ".py",
   "mimetype": "text/x-python",
   "name": "python",
   "nbconvert_exporter": "python",
   "pygments_lexer": "ipython3",
   "version": "3.8.3"
  }
 },
 "nbformat": 4,
 "nbformat_minor": 4
}
