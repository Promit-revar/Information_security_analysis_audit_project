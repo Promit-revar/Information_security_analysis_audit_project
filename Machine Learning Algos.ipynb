{
 "cells": [
  {
   "cell_type": "code",
   "execution_count": 1,
   "metadata": {},
   "outputs": [],
   "source": [
    "import pandas as pd\n",
    "import numpy as np\n",
    "import matplotlib.pyplot as plt\n",
    "import seaborn as sns"
   ]
  },
  {
   "cell_type": "code",
   "execution_count": 2,
   "metadata": {},
   "outputs": [],
   "source": [
    "data=pd.read_csv(\"Dataset.csv\")"
   ]
  },
  {
   "cell_type": "code",
   "execution_count": 3,
   "metadata": {},
   "outputs": [
    {
     "data": {
      "text/html": [
       "<div>\n",
       "<style scoped>\n",
       "    .dataframe tbody tr th:only-of-type {\n",
       "        vertical-align: middle;\n",
       "    }\n",
       "\n",
       "    .dataframe tbody tr th {\n",
       "        vertical-align: top;\n",
       "    }\n",
       "\n",
       "    .dataframe thead th {\n",
       "        text-align: right;\n",
       "    }\n",
       "</style>\n",
       "<table border=\"1\" class=\"dataframe\">\n",
       "  <thead>\n",
       "    <tr style=\"text-align: right;\">\n",
       "      <th></th>\n",
       "      <th>Unnamed: 0</th>\n",
       "      <th>SHA</th>\n",
       "      <th>Magic</th>\n",
       "      <th>File Type</th>\n",
       "      <th>File Size</th>\n",
       "      <th>Creation Time</th>\n",
       "      <th>Last Analysis</th>\n",
       "      <th>No. of Names</th>\n",
       "      <th>Signature Info</th>\n",
       "      <th>Target</th>\n",
       "      <th>...</th>\n",
       "      <th>Registry Keys opened</th>\n",
       "      <th>Registry Keys deleted</th>\n",
       "      <th>Shell commands</th>\n",
       "      <th>Processes created</th>\n",
       "      <th>Processes terminated</th>\n",
       "      <th>Services opened</th>\n",
       "      <th>Services created</th>\n",
       "      <th>Mutexes created</th>\n",
       "      <th>Mutexes opened</th>\n",
       "      <th>Class</th>\n",
       "    </tr>\n",
       "  </thead>\n",
       "  <tbody>\n",
       "    <tr>\n",
       "      <th>0</th>\n",
       "      <td>0</td>\n",
       "      <td>b1fd9e79f22a7085af1a127b11fe15d05eeded2c0efca7...</td>\n",
       "      <td>PE32+ executable for MS Windows (DLL) (GUI) Mo...</td>\n",
       "      <td>Win32 DLL</td>\n",
       "      <td>13.96 KB (14296 bytes)</td>\n",
       "      <td>NaN</td>\n",
       "      <td>NaN</td>\n",
       "      <td>2</td>\n",
       "      <td>1</td>\n",
       "      <td>NaN</td>\n",
       "      <td>...</td>\n",
       "      <td>0</td>\n",
       "      <td>0</td>\n",
       "      <td>0</td>\n",
       "      <td>0</td>\n",
       "      <td>0</td>\n",
       "      <td>0</td>\n",
       "      <td>0</td>\n",
       "      <td>0</td>\n",
       "      <td>0</td>\n",
       "      <td>benign</td>\n",
       "    </tr>\n",
       "    <tr>\n",
       "      <th>1</th>\n",
       "      <td>1</td>\n",
       "      <td>321cb38eff1a85a0426dcf28707352af86078c810cee36...</td>\n",
       "      <td>MS-DOS executable, MZ for MS-DOS</td>\n",
       "      <td>Win32 EXE</td>\n",
       "      <td>76.22 KB (78048 bytes)</td>\n",
       "      <td>1987-09-11 01:35:02</td>\n",
       "      <td>2020-05-09 13:13:19</td>\n",
       "      <td>8</td>\n",
       "      <td>-1</td>\n",
       "      <td>Intel 386 or later processors and compatible p...</td>\n",
       "      <td>...</td>\n",
       "      <td>10</td>\n",
       "      <td>0</td>\n",
       "      <td>0</td>\n",
       "      <td>0</td>\n",
       "      <td>0</td>\n",
       "      <td>0</td>\n",
       "      <td>0</td>\n",
       "      <td>1</td>\n",
       "      <td>8</td>\n",
       "      <td>malware</td>\n",
       "    </tr>\n",
       "    <tr>\n",
       "      <th>2</th>\n",
       "      <td>2</td>\n",
       "      <td>663404cd54c9a0e7d4c278638f2de59e1970df9e80c1c3...</td>\n",
       "      <td>PE32 executable for MS Windows (GUI) Intel 803...</td>\n",
       "      <td>Win32 EXE</td>\n",
       "      <td>50.50 KB (51712 bytes)</td>\n",
       "      <td>1999-11-23 03:10:42</td>\n",
       "      <td>2020-05-11 01:43:34</td>\n",
       "      <td>10</td>\n",
       "      <td>-1</td>\n",
       "      <td>Intel 386 or later processors and compatible p...</td>\n",
       "      <td>...</td>\n",
       "      <td>0</td>\n",
       "      <td>0</td>\n",
       "      <td>0</td>\n",
       "      <td>0</td>\n",
       "      <td>0</td>\n",
       "      <td>0</td>\n",
       "      <td>0</td>\n",
       "      <td>0</td>\n",
       "      <td>0</td>\n",
       "      <td>malware</td>\n",
       "    </tr>\n",
       "    <tr>\n",
       "      <th>3</th>\n",
       "      <td>3</td>\n",
       "      <td>160fed659b4c9b24d0052e24bebfdc76a909c70636ef85...</td>\n",
       "      <td>NaN</td>\n",
       "      <td>NaN</td>\n",
       "      <td>NaN</td>\n",
       "      <td>NaN</td>\n",
       "      <td>NaN</td>\n",
       "      <td>0</td>\n",
       "      <td>-1</td>\n",
       "      <td>NaN</td>\n",
       "      <td>...</td>\n",
       "      <td>10</td>\n",
       "      <td>0</td>\n",
       "      <td>0</td>\n",
       "      <td>0</td>\n",
       "      <td>0</td>\n",
       "      <td>0</td>\n",
       "      <td>0</td>\n",
       "      <td>10</td>\n",
       "      <td>0</td>\n",
       "      <td>benign</td>\n",
       "    </tr>\n",
       "    <tr>\n",
       "      <th>4</th>\n",
       "      <td>4</td>\n",
       "      <td>32be84189044725082165df81f97fcb442867948d75dd7...</td>\n",
       "      <td>PE32 executable for MS Windows (GUI) Intel 803...</td>\n",
       "      <td>Win32 EXE</td>\n",
       "      <td>165.75 KB (169727 bytes)</td>\n",
       "      <td>2004-08-05 21:49:16</td>\n",
       "      <td>2020-04-18 18:16:49</td>\n",
       "      <td>10</td>\n",
       "      <td>1</td>\n",
       "      <td>Intel 386 or later processors and compatible p...</td>\n",
       "      <td>...</td>\n",
       "      <td>10</td>\n",
       "      <td>3</td>\n",
       "      <td>0</td>\n",
       "      <td>0</td>\n",
       "      <td>0</td>\n",
       "      <td>1</td>\n",
       "      <td>0</td>\n",
       "      <td>10</td>\n",
       "      <td>9</td>\n",
       "      <td>malware</td>\n",
       "    </tr>\n",
       "  </tbody>\n",
       "</table>\n",
       "<p>5 rows × 42 columns</p>\n",
       "</div>"
      ],
      "text/plain": [
       "   Unnamed: 0                                                SHA  \\\n",
       "0           0  b1fd9e79f22a7085af1a127b11fe15d05eeded2c0efca7...   \n",
       "1           1  321cb38eff1a85a0426dcf28707352af86078c810cee36...   \n",
       "2           2  663404cd54c9a0e7d4c278638f2de59e1970df9e80c1c3...   \n",
       "3           3  160fed659b4c9b24d0052e24bebfdc76a909c70636ef85...   \n",
       "4           4  32be84189044725082165df81f97fcb442867948d75dd7...   \n",
       "\n",
       "                                               Magic  File Type  \\\n",
       "0  PE32+ executable for MS Windows (DLL) (GUI) Mo...  Win32 DLL   \n",
       "1                   MS-DOS executable, MZ for MS-DOS  Win32 EXE   \n",
       "2  PE32 executable for MS Windows (GUI) Intel 803...  Win32 EXE   \n",
       "3                                                NaN        NaN   \n",
       "4  PE32 executable for MS Windows (GUI) Intel 803...  Win32 EXE   \n",
       "\n",
       "                  File Size        Creation Time        Last Analysis  \\\n",
       "0    13.96 KB (14296 bytes)                  NaN                  NaN   \n",
       "1    76.22 KB (78048 bytes)  1987-09-11 01:35:02  2020-05-09 13:13:19   \n",
       "2    50.50 KB (51712 bytes)  1999-11-23 03:10:42  2020-05-11 01:43:34   \n",
       "3                       NaN                  NaN                  NaN   \n",
       "4  165.75 KB (169727 bytes)  2004-08-05 21:49:16  2020-04-18 18:16:49   \n",
       "\n",
       "   No. of Names  Signature Info  \\\n",
       "0             2               1   \n",
       "1             8              -1   \n",
       "2            10              -1   \n",
       "3             0              -1   \n",
       "4            10               1   \n",
       "\n",
       "                                              Target  ...  \\\n",
       "0                                                NaN  ...   \n",
       "1  Intel 386 or later processors and compatible p...  ...   \n",
       "2  Intel 386 or later processors and compatible p...  ...   \n",
       "3                                                NaN  ...   \n",
       "4  Intel 386 or later processors and compatible p...  ...   \n",
       "\n",
       "   Registry Keys opened  Registry Keys deleted  Shell commands  \\\n",
       "0                     0                      0               0   \n",
       "1                    10                      0               0   \n",
       "2                     0                      0               0   \n",
       "3                    10                      0               0   \n",
       "4                    10                      3               0   \n",
       "\n",
       "   Processes created  Processes terminated  Services opened  Services created  \\\n",
       "0                  0                     0                0                 0   \n",
       "1                  0                     0                0                 0   \n",
       "2                  0                     0                0                 0   \n",
       "3                  0                     0                0                 0   \n",
       "4                  0                     0                1                 0   \n",
       "\n",
       "   Mutexes created  Mutexes opened    Class  \n",
       "0                0               0   benign  \n",
       "1                1               8  malware  \n",
       "2                0               0  malware  \n",
       "3               10               0   benign  \n",
       "4               10               9  malware  \n",
       "\n",
       "[5 rows x 42 columns]"
      ]
     },
     "execution_count": 3,
     "metadata": {},
     "output_type": "execute_result"
    }
   ],
   "source": [
    "data.head()"
   ]
  },
  {
   "cell_type": "code",
   "execution_count": 4,
   "metadata": {},
   "outputs": [],
   "source": [
    "#drop extra Index columns\n",
    "data=data.drop([\"Unnamed: 0\",\"Last Analysis\",\"Creation Time\",\"SHA\"],axis=1)"
   ]
  },
  {
   "cell_type": "code",
   "execution_count": 5,
   "metadata": {},
   "outputs": [
    {
     "data": {
      "text/html": [
       "<div>\n",
       "<style scoped>\n",
       "    .dataframe tbody tr th:only-of-type {\n",
       "        vertical-align: middle;\n",
       "    }\n",
       "\n",
       "    .dataframe tbody tr th {\n",
       "        vertical-align: top;\n",
       "    }\n",
       "\n",
       "    .dataframe thead th {\n",
       "        text-align: right;\n",
       "    }\n",
       "</style>\n",
       "<table border=\"1\" class=\"dataframe\">\n",
       "  <thead>\n",
       "    <tr style=\"text-align: right;\">\n",
       "      <th></th>\n",
       "      <th>Magic</th>\n",
       "      <th>File Type</th>\n",
       "      <th>File Size</th>\n",
       "      <th>No. of Names</th>\n",
       "      <th>Signature Info</th>\n",
       "      <th>Target</th>\n",
       "      <th>Entry Point</th>\n",
       "      <th>Max Entropy</th>\n",
       "      <th>Min Entropy</th>\n",
       "      <th>Mean Entropy</th>\n",
       "      <th>...</th>\n",
       "      <th>Registry Keys opened</th>\n",
       "      <th>Registry Keys deleted</th>\n",
       "      <th>Shell commands</th>\n",
       "      <th>Processes created</th>\n",
       "      <th>Processes terminated</th>\n",
       "      <th>Services opened</th>\n",
       "      <th>Services created</th>\n",
       "      <th>Mutexes created</th>\n",
       "      <th>Mutexes opened</th>\n",
       "      <th>Class</th>\n",
       "    </tr>\n",
       "  </thead>\n",
       "  <tbody>\n",
       "    <tr>\n",
       "      <th>0</th>\n",
       "      <td>PE32+ executable for MS Windows (DLL) (GUI) Mo...</td>\n",
       "      <td>Win32 DLL</td>\n",
       "      <td>13.96 KB (14296 bytes)</td>\n",
       "      <td>2</td>\n",
       "      <td>1</td>\n",
       "      <td>NaN</td>\n",
       "      <td>NaN</td>\n",
       "      <td>5.68</td>\n",
       "      <td>2.65</td>\n",
       "      <td>4.032</td>\n",
       "      <td>...</td>\n",
       "      <td>0</td>\n",
       "      <td>0</td>\n",
       "      <td>0</td>\n",
       "      <td>0</td>\n",
       "      <td>0</td>\n",
       "      <td>0</td>\n",
       "      <td>0</td>\n",
       "      <td>0</td>\n",
       "      <td>0</td>\n",
       "      <td>benign</td>\n",
       "    </tr>\n",
       "    <tr>\n",
       "      <th>1</th>\n",
       "      <td>MS-DOS executable, MZ for MS-DOS</td>\n",
       "      <td>Win32 EXE</td>\n",
       "      <td>76.22 KB (78048 bytes)</td>\n",
       "      <td>8</td>\n",
       "      <td>-1</td>\n",
       "      <td>Intel 386 or later processors and compatible p...</td>\n",
       "      <td>536028.0</td>\n",
       "      <td>0.00</td>\n",
       "      <td>100000.00</td>\n",
       "      <td>0.000</td>\n",
       "      <td>...</td>\n",
       "      <td>10</td>\n",
       "      <td>0</td>\n",
       "      <td>0</td>\n",
       "      <td>0</td>\n",
       "      <td>0</td>\n",
       "      <td>0</td>\n",
       "      <td>0</td>\n",
       "      <td>1</td>\n",
       "      <td>8</td>\n",
       "      <td>malware</td>\n",
       "    </tr>\n",
       "    <tr>\n",
       "      <th>2</th>\n",
       "      <td>PE32 executable for MS Windows (GUI) Intel 803...</td>\n",
       "      <td>Win32 EXE</td>\n",
       "      <td>50.50 KB (51712 bytes)</td>\n",
       "      <td>10</td>\n",
       "      <td>-1</td>\n",
       "      <td>Intel 386 or later processors and compatible p...</td>\n",
       "      <td>4096.0</td>\n",
       "      <td>6.53</td>\n",
       "      <td>0.00</td>\n",
       "      <td>3.204</td>\n",
       "      <td>...</td>\n",
       "      <td>0</td>\n",
       "      <td>0</td>\n",
       "      <td>0</td>\n",
       "      <td>0</td>\n",
       "      <td>0</td>\n",
       "      <td>0</td>\n",
       "      <td>0</td>\n",
       "      <td>0</td>\n",
       "      <td>0</td>\n",
       "      <td>malware</td>\n",
       "    </tr>\n",
       "    <tr>\n",
       "      <th>3</th>\n",
       "      <td>NaN</td>\n",
       "      <td>NaN</td>\n",
       "      <td>NaN</td>\n",
       "      <td>0</td>\n",
       "      <td>-1</td>\n",
       "      <td>NaN</td>\n",
       "      <td>NaN</td>\n",
       "      <td>0.00</td>\n",
       "      <td>100000.00</td>\n",
       "      <td>0.000</td>\n",
       "      <td>...</td>\n",
       "      <td>10</td>\n",
       "      <td>0</td>\n",
       "      <td>0</td>\n",
       "      <td>0</td>\n",
       "      <td>0</td>\n",
       "      <td>0</td>\n",
       "      <td>0</td>\n",
       "      <td>10</td>\n",
       "      <td>0</td>\n",
       "      <td>benign</td>\n",
       "    </tr>\n",
       "    <tr>\n",
       "      <th>4</th>\n",
       "      <td>PE32 executable for MS Windows (GUI) Intel 803...</td>\n",
       "      <td>Win32 EXE</td>\n",
       "      <td>165.75 KB (169727 bytes)</td>\n",
       "      <td>10</td>\n",
       "      <td>1</td>\n",
       "      <td>Intel 386 or later processors and compatible p...</td>\n",
       "      <td>6805.0</td>\n",
       "      <td>7.59</td>\n",
       "      <td>7.59</td>\n",
       "      <td>7.590</td>\n",
       "      <td>...</td>\n",
       "      <td>10</td>\n",
       "      <td>3</td>\n",
       "      <td>0</td>\n",
       "      <td>0</td>\n",
       "      <td>0</td>\n",
       "      <td>1</td>\n",
       "      <td>0</td>\n",
       "      <td>10</td>\n",
       "      <td>9</td>\n",
       "      <td>malware</td>\n",
       "    </tr>\n",
       "  </tbody>\n",
       "</table>\n",
       "<p>5 rows × 38 columns</p>\n",
       "</div>"
      ],
      "text/plain": [
       "                                               Magic  File Type  \\\n",
       "0  PE32+ executable for MS Windows (DLL) (GUI) Mo...  Win32 DLL   \n",
       "1                   MS-DOS executable, MZ for MS-DOS  Win32 EXE   \n",
       "2  PE32 executable for MS Windows (GUI) Intel 803...  Win32 EXE   \n",
       "3                                                NaN        NaN   \n",
       "4  PE32 executable for MS Windows (GUI) Intel 803...  Win32 EXE   \n",
       "\n",
       "                  File Size  No. of Names  Signature Info  \\\n",
       "0    13.96 KB (14296 bytes)             2               1   \n",
       "1    76.22 KB (78048 bytes)             8              -1   \n",
       "2    50.50 KB (51712 bytes)            10              -1   \n",
       "3                       NaN             0              -1   \n",
       "4  165.75 KB (169727 bytes)            10               1   \n",
       "\n",
       "                                              Target  Entry Point  \\\n",
       "0                                                NaN          NaN   \n",
       "1  Intel 386 or later processors and compatible p...     536028.0   \n",
       "2  Intel 386 or later processors and compatible p...       4096.0   \n",
       "3                                                NaN          NaN   \n",
       "4  Intel 386 or later processors and compatible p...       6805.0   \n",
       "\n",
       "   Max Entropy  Min Entropy  Mean Entropy  ...  Registry Keys opened  \\\n",
       "0         5.68         2.65         4.032  ...                     0   \n",
       "1         0.00    100000.00         0.000  ...                    10   \n",
       "2         6.53         0.00         3.204  ...                     0   \n",
       "3         0.00    100000.00         0.000  ...                    10   \n",
       "4         7.59         7.59         7.590  ...                    10   \n",
       "\n",
       "   Registry Keys deleted  Shell commands  Processes created  \\\n",
       "0                      0               0                  0   \n",
       "1                      0               0                  0   \n",
       "2                      0               0                  0   \n",
       "3                      0               0                  0   \n",
       "4                      3               0                  0   \n",
       "\n",
       "   Processes terminated  Services opened  Services created  Mutexes created  \\\n",
       "0                     0                0                 0                0   \n",
       "1                     0                0                 0                1   \n",
       "2                     0                0                 0                0   \n",
       "3                     0                0                 0               10   \n",
       "4                     0                1                 0               10   \n",
       "\n",
       "   Mutexes opened    Class  \n",
       "0               0   benign  \n",
       "1               8  malware  \n",
       "2               0  malware  \n",
       "3               0   benign  \n",
       "4               9  malware  \n",
       "\n",
       "[5 rows x 38 columns]"
      ]
     },
     "execution_count": 5,
     "metadata": {},
     "output_type": "execute_result"
    }
   ],
   "source": [
    "data.head()"
   ]
  },
  {
   "cell_type": "code",
   "execution_count": 6,
   "metadata": {},
   "outputs": [
    {
     "data": {
      "text/html": [
       "<div>\n",
       "<style scoped>\n",
       "    .dataframe tbody tr th:only-of-type {\n",
       "        vertical-align: middle;\n",
       "    }\n",
       "\n",
       "    .dataframe tbody tr th {\n",
       "        vertical-align: top;\n",
       "    }\n",
       "\n",
       "    .dataframe thead th {\n",
       "        text-align: right;\n",
       "    }\n",
       "</style>\n",
       "<table border=\"1\" class=\"dataframe\">\n",
       "  <thead>\n",
       "    <tr style=\"text-align: right;\">\n",
       "      <th></th>\n",
       "      <th>No. of Names</th>\n",
       "      <th>Signature Info</th>\n",
       "      <th>Entry Point</th>\n",
       "      <th>Max Entropy</th>\n",
       "      <th>Min Entropy</th>\n",
       "      <th>Mean Entropy</th>\n",
       "      <th>Total Size Diffrence</th>\n",
       "      <th>Imports</th>\n",
       "      <th>Contained Resources By Language</th>\n",
       "      <th>Overlay Present</th>\n",
       "      <th>...</th>\n",
       "      <th>Files dropped</th>\n",
       "      <th>Registry Keys opened</th>\n",
       "      <th>Registry Keys deleted</th>\n",
       "      <th>Shell commands</th>\n",
       "      <th>Processes created</th>\n",
       "      <th>Processes terminated</th>\n",
       "      <th>Services opened</th>\n",
       "      <th>Services created</th>\n",
       "      <th>Mutexes created</th>\n",
       "      <th>Mutexes opened</th>\n",
       "    </tr>\n",
       "  </thead>\n",
       "  <tbody>\n",
       "    <tr>\n",
       "      <th>count</th>\n",
       "      <td>10558.000000</td>\n",
       "      <td>10558.000000</td>\n",
       "      <td>6.934000e+03</td>\n",
       "      <td>9883.000000</td>\n",
       "      <td>9883.000000</td>\n",
       "      <td>9883.000000</td>\n",
       "      <td>8.245000e+03</td>\n",
       "      <td>6117.000000</td>\n",
       "      <td>6009.000000</td>\n",
       "      <td>8245.000000</td>\n",
       "      <td>...</td>\n",
       "      <td>10558.000000</td>\n",
       "      <td>10558.000000</td>\n",
       "      <td>10558.000000</td>\n",
       "      <td>10558.000000</td>\n",
       "      <td>10558.000000</td>\n",
       "      <td>10558.000000</td>\n",
       "      <td>10558.000000</td>\n",
       "      <td>10558.000000</td>\n",
       "      <td>10558.000000</td>\n",
       "      <td>10558.000000</td>\n",
       "    </tr>\n",
       "    <tr>\n",
       "      <th>mean</th>\n",
       "      <td>5.497253</td>\n",
       "      <td>-0.174086</td>\n",
       "      <td>2.694894e+05</td>\n",
       "      <td>4.137464</td>\n",
       "      <td>34302.475610</td>\n",
       "      <td>2.769948</td>\n",
       "      <td>1.322273e+06</td>\n",
       "      <td>38.865947</td>\n",
       "      <td>1.351140</td>\n",
       "      <td>-0.026076</td>\n",
       "      <td>...</td>\n",
       "      <td>0.262076</td>\n",
       "      <td>2.288217</td>\n",
       "      <td>0.345899</td>\n",
       "      <td>0.013071</td>\n",
       "      <td>0.218413</td>\n",
       "      <td>0.260940</td>\n",
       "      <td>0.136484</td>\n",
       "      <td>0.013071</td>\n",
       "      <td>1.924986</td>\n",
       "      <td>0.820515</td>\n",
       "    </tr>\n",
       "    <tr>\n",
       "      <th>std</th>\n",
       "      <td>4.259035</td>\n",
       "      <td>0.984777</td>\n",
       "      <td>2.271216e+06</td>\n",
       "      <td>3.088377</td>\n",
       "      <td>47473.158312</td>\n",
       "      <td>2.201737</td>\n",
       "      <td>6.822647e+07</td>\n",
       "      <td>26.729576</td>\n",
       "      <td>0.741698</td>\n",
       "      <td>0.999721</td>\n",
       "      <td>...</td>\n",
       "      <td>2.095472</td>\n",
       "      <td>4.153673</td>\n",
       "      <td>1.259191</td>\n",
       "      <td>0.120856</td>\n",
       "      <td>0.931404</td>\n",
       "      <td>0.927009</td>\n",
       "      <td>0.723254</td>\n",
       "      <td>0.120856</td>\n",
       "      <td>3.491211</td>\n",
       "      <td>2.279738</td>\n",
       "    </tr>\n",
       "    <tr>\n",
       "      <th>min</th>\n",
       "      <td>0.000000</td>\n",
       "      <td>-1.000000</td>\n",
       "      <td>0.000000e+00</td>\n",
       "      <td>0.000000</td>\n",
       "      <td>0.000000</td>\n",
       "      <td>0.000000</td>\n",
       "      <td>0.000000e+00</td>\n",
       "      <td>1.000000</td>\n",
       "      <td>0.000000</td>\n",
       "      <td>-1.000000</td>\n",
       "      <td>...</td>\n",
       "      <td>0.000000</td>\n",
       "      <td>0.000000</td>\n",
       "      <td>0.000000</td>\n",
       "      <td>0.000000</td>\n",
       "      <td>0.000000</td>\n",
       "      <td>0.000000</td>\n",
       "      <td>0.000000</td>\n",
       "      <td>0.000000</td>\n",
       "      <td>0.000000</td>\n",
       "      <td>0.000000</td>\n",
       "    </tr>\n",
       "    <tr>\n",
       "      <th>25%</th>\n",
       "      <td>1.000000</td>\n",
       "      <td>-1.000000</td>\n",
       "      <td>6.678250e+03</td>\n",
       "      <td>0.000000</td>\n",
       "      <td>0.540000</td>\n",
       "      <td>0.000000</td>\n",
       "      <td>7.120000e+02</td>\n",
       "      <td>14.000000</td>\n",
       "      <td>1.000000</td>\n",
       "      <td>-1.000000</td>\n",
       "      <td>...</td>\n",
       "      <td>0.000000</td>\n",
       "      <td>0.000000</td>\n",
       "      <td>0.000000</td>\n",
       "      <td>0.000000</td>\n",
       "      <td>0.000000</td>\n",
       "      <td>0.000000</td>\n",
       "      <td>0.000000</td>\n",
       "      <td>0.000000</td>\n",
       "      <td>0.000000</td>\n",
       "      <td>0.000000</td>\n",
       "    </tr>\n",
       "    <tr>\n",
       "      <th>50%</th>\n",
       "      <td>8.000000</td>\n",
       "      <td>-1.000000</td>\n",
       "      <td>3.206800e+04</td>\n",
       "      <td>5.900000</td>\n",
       "      <td>3.210000</td>\n",
       "      <td>3.358000</td>\n",
       "      <td>2.340000e+03</td>\n",
       "      <td>33.000000</td>\n",
       "      <td>1.000000</td>\n",
       "      <td>-1.000000</td>\n",
       "      <td>...</td>\n",
       "      <td>0.000000</td>\n",
       "      <td>0.000000</td>\n",
       "      <td>0.000000</td>\n",
       "      <td>0.000000</td>\n",
       "      <td>0.000000</td>\n",
       "      <td>0.000000</td>\n",
       "      <td>0.000000</td>\n",
       "      <td>0.000000</td>\n",
       "      <td>0.000000</td>\n",
       "      <td>0.000000</td>\n",
       "    </tr>\n",
       "    <tr>\n",
       "      <th>75%</th>\n",
       "      <td>10.000000</td>\n",
       "      <td>1.000000</td>\n",
       "      <td>1.766285e+05</td>\n",
       "      <td>6.450000</td>\n",
       "      <td>100000.000000</td>\n",
       "      <td>4.595000</td>\n",
       "      <td>9.728000e+03</td>\n",
       "      <td>63.000000</td>\n",
       "      <td>2.000000</td>\n",
       "      <td>1.000000</td>\n",
       "      <td>...</td>\n",
       "      <td>0.000000</td>\n",
       "      <td>0.000000</td>\n",
       "      <td>0.000000</td>\n",
       "      <td>0.000000</td>\n",
       "      <td>0.000000</td>\n",
       "      <td>0.000000</td>\n",
       "      <td>0.000000</td>\n",
       "      <td>0.000000</td>\n",
       "      <td>1.000000</td>\n",
       "      <td>0.000000</td>\n",
       "    </tr>\n",
       "    <tr>\n",
       "      <th>max</th>\n",
       "      <td>17.000000</td>\n",
       "      <td>1.000000</td>\n",
       "      <td>1.704960e+08</td>\n",
       "      <td>8.000000</td>\n",
       "      <td>100000.000000</td>\n",
       "      <td>7.990000</td>\n",
       "      <td>4.278204e+09</td>\n",
       "      <td>108.000000</td>\n",
       "      <td>10.000000</td>\n",
       "      <td>1.000000</td>\n",
       "      <td>...</td>\n",
       "      <td>20.000000</td>\n",
       "      <td>10.000000</td>\n",
       "      <td>10.000000</td>\n",
       "      <td>2.000000</td>\n",
       "      <td>10.000000</td>\n",
       "      <td>10.000000</td>\n",
       "      <td>10.000000</td>\n",
       "      <td>2.000000</td>\n",
       "      <td>10.000000</td>\n",
       "      <td>10.000000</td>\n",
       "    </tr>\n",
       "  </tbody>\n",
       "</table>\n",
       "<p>8 rows × 33 columns</p>\n",
       "</div>"
      ],
      "text/plain": [
       "       No. of Names  Signature Info   Entry Point  Max Entropy    Min Entropy  \\\n",
       "count  10558.000000    10558.000000  6.934000e+03  9883.000000    9883.000000   \n",
       "mean       5.497253       -0.174086  2.694894e+05     4.137464   34302.475610   \n",
       "std        4.259035        0.984777  2.271216e+06     3.088377   47473.158312   \n",
       "min        0.000000       -1.000000  0.000000e+00     0.000000       0.000000   \n",
       "25%        1.000000       -1.000000  6.678250e+03     0.000000       0.540000   \n",
       "50%        8.000000       -1.000000  3.206800e+04     5.900000       3.210000   \n",
       "75%       10.000000        1.000000  1.766285e+05     6.450000  100000.000000   \n",
       "max       17.000000        1.000000  1.704960e+08     8.000000  100000.000000   \n",
       "\n",
       "       Mean Entropy  Total Size Diffrence      Imports  \\\n",
       "count   9883.000000          8.245000e+03  6117.000000   \n",
       "mean       2.769948          1.322273e+06    38.865947   \n",
       "std        2.201737          6.822647e+07    26.729576   \n",
       "min        0.000000          0.000000e+00     1.000000   \n",
       "25%        0.000000          7.120000e+02    14.000000   \n",
       "50%        3.358000          2.340000e+03    33.000000   \n",
       "75%        4.595000          9.728000e+03    63.000000   \n",
       "max        7.990000          4.278204e+09   108.000000   \n",
       "\n",
       "       Contained Resources By Language  Overlay Present  ...  Files dropped  \\\n",
       "count                      6009.000000      8245.000000  ...   10558.000000   \n",
       "mean                          1.351140        -0.026076  ...       0.262076   \n",
       "std                           0.741698         0.999721  ...       2.095472   \n",
       "min                           0.000000        -1.000000  ...       0.000000   \n",
       "25%                           1.000000        -1.000000  ...       0.000000   \n",
       "50%                           1.000000        -1.000000  ...       0.000000   \n",
       "75%                           2.000000         1.000000  ...       0.000000   \n",
       "max                          10.000000         1.000000  ...      20.000000   \n",
       "\n",
       "       Registry Keys opened  Registry Keys deleted  Shell commands  \\\n",
       "count          10558.000000           10558.000000    10558.000000   \n",
       "mean               2.288217               0.345899        0.013071   \n",
       "std                4.153673               1.259191        0.120856   \n",
       "min                0.000000               0.000000        0.000000   \n",
       "25%                0.000000               0.000000        0.000000   \n",
       "50%                0.000000               0.000000        0.000000   \n",
       "75%                0.000000               0.000000        0.000000   \n",
       "max               10.000000              10.000000        2.000000   \n",
       "\n",
       "       Processes created  Processes terminated  Services opened  \\\n",
       "count       10558.000000          10558.000000     10558.000000   \n",
       "mean            0.218413              0.260940         0.136484   \n",
       "std             0.931404              0.927009         0.723254   \n",
       "min             0.000000              0.000000         0.000000   \n",
       "25%             0.000000              0.000000         0.000000   \n",
       "50%             0.000000              0.000000         0.000000   \n",
       "75%             0.000000              0.000000         0.000000   \n",
       "max            10.000000             10.000000        10.000000   \n",
       "\n",
       "       Services created  Mutexes created  Mutexes opened  \n",
       "count      10558.000000     10558.000000    10558.000000  \n",
       "mean           0.013071         1.924986        0.820515  \n",
       "std            0.120856         3.491211        2.279738  \n",
       "min            0.000000         0.000000        0.000000  \n",
       "25%            0.000000         0.000000        0.000000  \n",
       "50%            0.000000         0.000000        0.000000  \n",
       "75%            0.000000         1.000000        0.000000  \n",
       "max            2.000000        10.000000       10.000000  \n",
       "\n",
       "[8 rows x 33 columns]"
      ]
     },
     "execution_count": 6,
     "metadata": {},
     "output_type": "execute_result"
    }
   ],
   "source": [
    "#Data Description\n",
    "data.describe()"
   ]
  },
  {
   "cell_type": "code",
   "execution_count": 7,
   "metadata": {},
   "outputs": [
    {
     "name": "stdout",
     "output_type": "stream",
     "text": [
      "<class 'pandas.core.frame.DataFrame'>\n",
      "RangeIndex: 10558 entries, 0 to 10557\n",
      "Data columns (total 38 columns):\n",
      " #   Column                           Non-Null Count  Dtype  \n",
      "---  ------                           --------------  -----  \n",
      " 0   Magic                            8245 non-null   object \n",
      " 1   File Type                        8245 non-null   object \n",
      " 2   File Size                        8245 non-null   object \n",
      " 3   No. of Names                     10558 non-null  int64  \n",
      " 4   Signature Info                   10558 non-null  int64  \n",
      " 5   Target                           6934 non-null   object \n",
      " 6   Entry Point                      6934 non-null   float64\n",
      " 7   Max Entropy                      9883 non-null   float64\n",
      " 8   Min Entropy                      9883 non-null   float64\n",
      " 9   Mean Entropy                     9883 non-null   float64\n",
      " 10  Total Size Diffrence             8245 non-null   float64\n",
      " 11  Imports                          6117 non-null   float64\n",
      " 12  Contained Resources By Language  6009 non-null   float64\n",
      " 13  Overlay Present                  8245 non-null   float64\n",
      " 14  Contacted Domains                10558 non-null  int64  \n",
      " 15  Contacted IP Addresses           10558 non-null  int64  \n",
      " 16  Contacted URLs                   10558 non-null  int64  \n",
      " 17  Execution Parents                10558 non-null  int64  \n",
      " 18  PE Resource Parents              10558 non-null  int64  \n",
      " 19  Bundled Files                    10558 non-null  int64  \n",
      " 20  PE Resource Children             10558 non-null  int64  \n",
      " 21  DNS Resolutions                  10558 non-null  int64  \n",
      " 22  http request                     10558 non-null  int64  \n",
      " 23  Files opened                     10558 non-null  int64  \n",
      " 24  Files written                    10558 non-null  int64  \n",
      " 25  Files deleted                    10558 non-null  int64  \n",
      " 26  Files copied                     10558 non-null  int64  \n",
      " 27  Files dropped                    10558 non-null  int64  \n",
      " 28  Registry Keys opened             10558 non-null  int64  \n",
      " 29  Registry Keys deleted            10558 non-null  int64  \n",
      " 30  Shell commands                   10558 non-null  int64  \n",
      " 31  Processes created                10558 non-null  int64  \n",
      " 32  Processes terminated             10558 non-null  int64  \n",
      " 33  Services opened                  10558 non-null  int64  \n",
      " 34  Services created                 10558 non-null  int64  \n",
      " 35  Mutexes created                  10558 non-null  int64  \n",
      " 36  Mutexes opened                   10558 non-null  int64  \n",
      " 37  Class                            10558 non-null  object \n",
      "dtypes: float64(8), int64(25), object(5)\n",
      "memory usage: 3.1+ MB\n"
     ]
    }
   ],
   "source": [
    "#Data Information\n",
    "data.info()"
   ]
  },
  {
   "cell_type": "code",
   "execution_count": 8,
   "metadata": {},
   "outputs": [
    {
     "data": {
      "text/plain": [
       "Magic                              2313\n",
       "File Type                          2313\n",
       "File Size                          2313\n",
       "No. of Names                          0\n",
       "Signature Info                        0\n",
       "Target                             3624\n",
       "Entry Point                        3624\n",
       "Max Entropy                         675\n",
       "Min Entropy                         675\n",
       "Mean Entropy                        675\n",
       "Total Size Diffrence               2313\n",
       "Imports                            4441\n",
       "Contained Resources By Language    4549\n",
       "Overlay Present                    2313\n",
       "Contacted Domains                     0\n",
       "Contacted IP Addresses                0\n",
       "Contacted URLs                        0\n",
       "Execution Parents                     0\n",
       "PE Resource Parents                   0\n",
       "Bundled Files                         0\n",
       "PE Resource Children                  0\n",
       "DNS Resolutions                       0\n",
       "http request                          0\n",
       "Files opened                          0\n",
       "Files written                         0\n",
       "Files deleted                         0\n",
       "Files copied                          0\n",
       "Files dropped                         0\n",
       "Registry Keys opened                  0\n",
       "Registry Keys deleted                 0\n",
       "Shell commands                        0\n",
       "Processes created                     0\n",
       "Processes terminated                  0\n",
       "Services opened                       0\n",
       "Services created                      0\n",
       "Mutexes created                       0\n",
       "Mutexes opened                        0\n",
       "Class                                 0\n",
       "dtype: int64"
      ]
     },
     "execution_count": 8,
     "metadata": {},
     "output_type": "execute_result"
    }
   ],
   "source": [
    "data.isnull().sum()"
   ]
  },
  {
   "cell_type": "markdown",
   "metadata": {},
   "source": [
    "## Filling Null Values"
   ]
  },
  {
   "cell_type": "code",
   "execution_count": 9,
   "metadata": {},
   "outputs": [],
   "source": [
    "data[\"Total Size Diffrence\"].fillna(0,inplace=True)        "
   ]
  },
  {
   "cell_type": "code",
   "execution_count": 10,
   "metadata": {},
   "outputs": [
    {
     "data": {
      "text/plain": [
       "0"
      ]
     },
     "execution_count": 10,
     "metadata": {},
     "output_type": "execute_result"
    }
   ],
   "source": [
    "data[\"Total Size Diffrence\"].isnull().sum()"
   ]
  },
  {
   "cell_type": "code",
   "execution_count": 11,
   "metadata": {},
   "outputs": [
    {
     "data": {
      "text/plain": [
       "0"
      ]
     },
     "execution_count": 11,
     "metadata": {},
     "output_type": "execute_result"
    }
   ],
   "source": [
    "data['File Size'].fillna(\"0 KB\",inplace=True)\n",
    "data['File Size'].isnull().sum()"
   ]
  },
  {
   "cell_type": "code",
   "execution_count": 12,
   "metadata": {},
   "outputs": [],
   "source": [
    "def fill(i):\n",
    "    m=i.split(\" \")\n",
    "    if(m[1].lower()==\"mb\"):\n",
    "        #print(m[1])\n",
    "        return 1000*float(m[0])\n",
    "    return float(m[0])    "
   ]
  },
  {
   "cell_type": "code",
   "execution_count": 13,
   "metadata": {},
   "outputs": [],
   "source": [
    "data['File Size']=data['File Size'].apply(fill)"
   ]
  },
  {
   "cell_type": "code",
   "execution_count": 14,
   "metadata": {},
   "outputs": [
    {
     "data": {
      "text/plain": [
       "0         13.96\n",
       "1         76.22\n",
       "2         50.50\n",
       "3          0.00\n",
       "4        165.75\n",
       "          ...  \n",
       "10553    308.00\n",
       "10554    278.00\n",
       "10555     49.50\n",
       "10556    207.40\n",
       "10557     97.00\n",
       "Name: File Size, Length: 10558, dtype: float64"
      ]
     },
     "execution_count": 14,
     "metadata": {},
     "output_type": "execute_result"
    }
   ],
   "source": [
    "data['File Size']"
   ]
  },
  {
   "cell_type": "code",
   "execution_count": 15,
   "metadata": {},
   "outputs": [
    {
     "data": {
      "text/plain": [
       "0         13.96\n",
       "1         76.22\n",
       "2         50.50\n",
       "3          0.00\n",
       "4        165.75\n",
       "          ...  \n",
       "10553    308.00\n",
       "10554    278.00\n",
       "10555     49.50\n",
       "10556    207.40\n",
       "10557     97.00\n",
       "Name: File Size, Length: 10558, dtype: float64"
      ]
     },
     "execution_count": 15,
     "metadata": {},
     "output_type": "execute_result"
    }
   ],
   "source": [
    "data['File Size'].astype('float')"
   ]
  },
  {
   "cell_type": "code",
   "execution_count": 16,
   "metadata": {},
   "outputs": [
    {
     "data": {
      "text/plain": [
       "0        5.68\n",
       "1        0.00\n",
       "2        6.53\n",
       "3        0.00\n",
       "4        7.59\n",
       "         ... \n",
       "10553    0.00\n",
       "10554     NaN\n",
       "10555    6.27\n",
       "10556    6.65\n",
       "10557    7.99\n",
       "Name: Max Entropy, Length: 10558, dtype: float64"
      ]
     },
     "execution_count": 16,
     "metadata": {},
     "output_type": "execute_result"
    }
   ],
   "source": [
    "data[\"Max Entropy\"]"
   ]
  },
  {
   "cell_type": "code",
   "execution_count": 17,
   "metadata": {},
   "outputs": [],
   "source": [
    "def replace(i):\n",
    "    if(i==0.00):\n",
    "        return None\n",
    "    return i"
   ]
  },
  {
   "cell_type": "code",
   "execution_count": 18,
   "metadata": {},
   "outputs": [],
   "source": [
    "data[\"Max Entropy\"]=data[\"Max Entropy\"].apply(replace)"
   ]
  },
  {
   "cell_type": "code",
   "execution_count": 19,
   "metadata": {},
   "outputs": [
    {
     "data": {
      "text/plain": [
       "0        5.68\n",
       "1         NaN\n",
       "2        6.53\n",
       "3         NaN\n",
       "4        7.59\n",
       "         ... \n",
       "10553     NaN\n",
       "10554     NaN\n",
       "10555    6.27\n",
       "10556    6.65\n",
       "10557    7.99\n",
       "Name: Max Entropy, Length: 10558, dtype: float64"
      ]
     },
     "execution_count": 19,
     "metadata": {},
     "output_type": "execute_result"
    }
   ],
   "source": [
    "data[\"Max Entropy\"]"
   ]
  },
  {
   "cell_type": "code",
   "execution_count": 20,
   "metadata": {},
   "outputs": [
    {
     "name": "stderr",
     "output_type": "stream",
     "text": [
      "/Users/pranchalsihare/opt/anaconda3/lib/python3.8/site-packages/seaborn/distributions.py:2557: FutureWarning: `distplot` is a deprecated function and will be removed in a future version. Please adapt your code to use either `displot` (a figure-level function with similar flexibility) or `histplot` (an axes-level function for histograms).\n",
      "  warnings.warn(msg, FutureWarning)\n"
     ]
    },
    {
     "data": {
      "text/plain": [
       "<AxesSubplot:xlabel='Max Entropy', ylabel='Density'>"
      ]
     },
     "execution_count": 20,
     "metadata": {},
     "output_type": "execute_result"
    },
    {
     "data": {
      "image/png": "[encoded data removed]",
      "text/plain": [
       "<Figure size 432x288 with 1 Axes>"
      ]
     },
     "metadata": {
      "needs_background": "light"
     },
     "output_type": "display_data"
    }
   ],
   "source": [
    "sns.distplot(data[\"Max Entropy\"])"
   ]
  },
  {
   "cell_type": "markdown",
   "metadata": {},
   "source": [
    "### Since this is a right skewed distribution curve we replace the null values with the median of the attribute"
   ]
  },
  {
   "cell_type": "code",
   "execution_count": 21,
   "metadata": {},
   "outputs": [],
   "source": [
    "data[\"Max Entropy\"].fillna(data[\"Max Entropy\"].median(),inplace=True)"
   ]
  },
  {
   "cell_type": "code",
   "execution_count": 22,
   "metadata": {},
   "outputs": [],
   "source": [
    "def con(i):\n",
    "    if(i==100000.0):\n",
    "        return None\n",
    "    return i"
   ]
  },
  {
   "cell_type": "code",
   "execution_count": 23,
   "metadata": {},
   "outputs": [],
   "source": [
    "data[\"Min Entropy\"]=data[\"Min Entropy\"].apply(con)"
   ]
  },
  {
   "cell_type": "code",
   "execution_count": 24,
   "metadata": {},
   "outputs": [
    {
     "name": "stderr",
     "output_type": "stream",
     "text": [
      "/Users/pranchalsihare/opt/anaconda3/lib/python3.8/site-packages/seaborn/distributions.py:2557: FutureWarning: `distplot` is a deprecated function and will be removed in a future version. Please adapt your code to use either `displot` (a figure-level function with similar flexibility) or `histplot` (an axes-level function for histograms).\n",
      "  warnings.warn(msg, FutureWarning)\n"
     ]
    },
    {
     "data": {
      "text/plain": [
       "<AxesSubplot:xlabel='Min Entropy', ylabel='Density'>"
      ]
     },
     "execution_count": 24,
     "metadata": {},
     "output_type": "execute_result"
    },
    {
     "data": {
      "image/png": "[encoded data removed]",
      "text/plain": [
       "<Figure size 432x288 with 1 Axes>"
      ]
     },
     "metadata": {
      "needs_background": "light"
     },
     "output_type": "display_data"
    }
   ],
   "source": [
    "sns.distplot(data[\"Min Entropy\"])"
   ]
  },
  {
   "cell_type": "markdown",
   "metadata": {},
   "source": [
    "### Since this is a Left Skewed distribution curve we replace the null values with the median of the attribute"
   ]
  },
  {
   "cell_type": "code",
   "execution_count": 25,
   "metadata": {},
   "outputs": [],
   "source": [
    "data[\"Min Entropy\"].fillna(data[\"Min Entropy\"].median(),inplace=True)"
   ]
  },
  {
   "cell_type": "code",
   "execution_count": 26,
   "metadata": {},
   "outputs": [],
   "source": [
    "data[\"Mean Entropy\"]=data[\"Mean Entropy\"].apply(replace)"
   ]
  },
  {
   "cell_type": "code",
   "execution_count": 27,
   "metadata": {},
   "outputs": [
    {
     "name": "stderr",
     "output_type": "stream",
     "text": [
      "/Users/pranchalsihare/opt/anaconda3/lib/python3.8/site-packages/seaborn/distributions.py:2557: FutureWarning: `distplot` is a deprecated function and will be removed in a future version. Please adapt your code to use either `displot` (a figure-level function with similar flexibility) or `histplot` (an axes-level function for histograms).\n",
      "  warnings.warn(msg, FutureWarning)\n"
     ]
    },
    {
     "data": {
      "text/plain": [
       "<AxesSubplot:xlabel='Mean Entropy', ylabel='Density'>"
      ]
     },
     "execution_count": 27,
     "metadata": {},
     "output_type": "execute_result"
    },
    {
     "data": {
      "image/png": "[encoded data removed]",
      "text/plain": [
       "<Figure size 432x288 with 1 Axes>"
      ]
     },
     "metadata": {
      "needs_background": "light"
     },
     "output_type": "display_data"
    }
   ],
   "source": [
    "sns.distplot(data[\"Mean Entropy\"])"
   ]
  },
  {
   "cell_type": "markdown",
   "metadata": {},
   "source": [
    "### Since this is a Normal distribution curve we replace the null values with the mean of the attribute"
   ]
  },
  {
   "cell_type": "code",
   "execution_count": 28,
   "metadata": {},
   "outputs": [],
   "source": [
    "data[\"Mean Entropy\"].fillna(data[\"Mean Entropy\"].mean(),inplace=True)"
   ]
  },
  {
   "cell_type": "code",
   "execution_count": 29,
   "metadata": {},
   "outputs": [],
   "source": [
    "data[\"Imports\"].fillna(0,inplace=True)\n",
    "data[\"Contained Resources By Language\"].fillna(0,inplace=True)\n",
    "data[\"Overlay Present\"].fillna(-1,inplace=True)"
   ]
  },
  {
   "cell_type": "code",
   "execution_count": 30,
   "metadata": {},
   "outputs": [],
   "source": [
    "data[\"Magic\"].fillna(\" \",inplace=True)\n",
    "data[\"Target\"].fillna(\" \",inplace=True)\n",
    "data[\"File Type\"].fillna(\" \",inplace=True)\n",
    "data[\"Entry Point\"].fillna(0,inplace=True)"
   ]
  },
  {
   "cell_type": "markdown",
   "metadata": {},
   "source": [
    "## Spliting dependent and independent Variables\n",
    "### Here dependent variable is the \"Class\" and rest all are independent variables and then go for encoding"
   ]
  },
  {
   "cell_type": "code",
   "execution_count": 31,
   "metadata": {},
   "outputs": [],
   "source": [
    "indp=data.iloc[:,:-1].values\n",
    "dep=data.iloc[:,-1].values"
   ]
  },
  {
   "cell_type": "markdown",
   "metadata": {},
   "source": [
    "### Label Encoding of Class Variable "
   ]
  },
  {
   "cell_type": "code",
   "execution_count": 32,
   "metadata": {},
   "outputs": [],
   "source": [
    "from sklearn.preprocessing import LabelEncoder\n",
    "le=LabelEncoder()"
   ]
  },
  {
   "cell_type": "code",
   "execution_count": 33,
   "metadata": {},
   "outputs": [
    {
     "data": {
      "text/plain": [
       "array([0, 1, 1, ..., 1, 0, 1])"
      ]
     },
     "execution_count": 33,
     "metadata": {},
     "output_type": "execute_result"
    }
   ],
   "source": [
    "dep = le.fit_transform(dep)\n",
    "dep"
   ]
  },
  {
   "cell_type": "markdown",
   "metadata": {},
   "source": [
    "###  One hot encoding of \"Magic\", \"File Type\",\"Target\""
   ]
  },
  {
   "cell_type": "code",
   "execution_count": 34,
   "metadata": {},
   "outputs": [],
   "source": [
    "from sklearn.compose import ColumnTransformer\n",
    "from sklearn.preprocessing import OneHotEncoder"
   ]
  },
  {
   "cell_type": "code",
   "execution_count": 35,
   "metadata": {},
   "outputs": [],
   "source": [
    "ct = ColumnTransformer([(\"ohe\",OneHotEncoder(drop=\"first\"),[0,1,5])],remainder=\"passthrough\")\n",
    "indp = ct.fit_transform(indp)"
   ]
  },
  {
   "cell_type": "markdown",
   "metadata": {},
   "source": [
    "### Scaling the data..."
   ]
  },
  {
   "cell_type": "code",
   "execution_count": 36,
   "metadata": {},
   "outputs": [
    {
     "data": {
      "text/plain": [
       "array([[0. , 0. , 0. , ..., 0. , 0. , 0. ],\n",
       "       [0. , 0. , 0. , ..., 0. , 0.1, 0.8],\n",
       "       [0. , 0. , 0. , ..., 0. , 0. , 0. ],\n",
       "       ...,\n",
       "       [0. , 0. , 0. , ..., 0. , 0. , 0. ],\n",
       "       [0. , 0. , 0. , ..., 0. , 0. , 0. ],\n",
       "       [0. , 0. , 0. , ..., 0. , 0.8, 0.1]])"
      ]
     },
     "execution_count": 36,
     "metadata": {},
     "output_type": "execute_result"
    }
   ],
   "source": [
    "from sklearn.preprocessing import MinMaxScaler\n",
    "ms = MinMaxScaler()\n",
    "ms_indp = ms.fit_transform(indp)\n",
    "ms_indp"
   ]
  },
  {
   "cell_type": "markdown",
   "metadata": {},
   "source": [
    "## Now we split the cleaned dataset into train and test "
   ]
  },
  {
   "cell_type": "code",
   "execution_count": 37,
   "metadata": {},
   "outputs": [],
   "source": [
    "from sklearn.model_selection import train_test_split"
   ]
  },
  {
   "cell_type": "code",
   "execution_count": 38,
   "metadata": {},
   "outputs": [],
   "source": [
    "X_train,X_test,Y_train,Y_test=train_test_split(indp,dep,test_size=0.2,random_state=1)"
   ]
  },
  {
   "cell_type": "code",
   "execution_count": 39,
   "metadata": {},
   "outputs": [
    {
     "data": {
      "text/plain": [
       "((8446, 96), (8446,), (2112, 96), (2112,))"
      ]
     },
     "execution_count": 39,
     "metadata": {},
     "output_type": "execute_result"
    }
   ],
   "source": [
    "X_train.shape,Y_train.shape,X_test.shape,Y_test.shape"
   ]
  },
  {
   "cell_type": "markdown",
   "metadata": {},
   "source": [
    "## Now we implement Machine Learning Algorithms on processed data"
   ]
  },
  {
   "cell_type": "markdown",
   "metadata": {},
   "source": [
    "### 1) Logistic Regression"
   ]
  },
  {
   "cell_type": "code",
   "execution_count": 40,
   "metadata": {},
   "outputs": [],
   "source": [
    "from sklearn.linear_model import LogisticRegression\n",
    "from sklearn.metrics import confusion_matrix,accuracy_score,precision_score,recall_score"
   ]
  },
  {
   "cell_type": "code",
   "execution_count": 41,
   "metadata": {},
   "outputs": [
    {
     "data": {
      "text/plain": [
       "LogisticRegression()"
      ]
     },
     "execution_count": 41,
     "metadata": {},
     "output_type": "execute_result"
    }
   ],
   "source": [
    "clf=LogisticRegression()\n",
    "clf"
   ]
  },
  {
   "cell_type": "code",
   "execution_count": 42,
   "metadata": {},
   "outputs": [
    {
     "data": {
      "text/plain": [
       "LogisticRegression()"
      ]
     },
     "execution_count": 42,
     "metadata": {},
     "output_type": "execute_result"
    }
   ],
   "source": [
    "clf.fit(X_train,Y_train)"
   ]
  },
  {
   "cell_type": "code",
   "execution_count": 43,
   "metadata": {},
   "outputs": [],
   "source": [
    "preds=clf.predict(X_test)"
   ]
  },
  {
   "cell_type": "code",
   "execution_count": 44,
   "metadata": {},
   "outputs": [
    {
     "data": {
      "text/plain": [
       "<AxesSubplot:>"
      ]
     },
     "execution_count": 44,
     "metadata": {},
     "output_type": "execute_result"
    },
    {
     "data": {
      "image/png": "[encoded data removed]",
      "text/plain": [
       "<Figure size 432x288 with 2 Axes>"
      ]
     },
     "metadata": {
      "needs_background": "light"
     },
     "output_type": "display_data"
    }
   ],
   "source": [
    "lr_con = confusion_matrix(preds,Y_test)\n",
    "sns.heatmap(lr_con, annot=True)"
   ]
  },
  {
   "cell_type": "code",
   "execution_count": 45,
   "metadata": {},
   "outputs": [
    {
     "name": "stdout",
     "output_type": "stream",
     "text": [
      "Precision:  65.88235294117646\n"
     ]
    }
   ],
   "source": [
    "# precision\n",
    "\n",
    "lr_pr = precision_score(Y_test, preds)*100\n",
    "print(\"Precision: \",lr_pr)"
   ]
  },
  {
   "cell_type": "code",
   "execution_count": 46,
   "metadata": {},
   "outputs": [
    {
     "name": "stdout",
     "output_type": "stream",
     "text": [
      "Recall is:  44.56233421750663\n"
     ]
    }
   ],
   "source": [
    "# recall\n",
    "\n",
    "lr_re = recall_score(Y_test, preds)*100\n",
    "print(\"Recall is: \",lr_re)"
   ]
  },
  {
   "cell_type": "code",
   "execution_count": 47,
   "metadata": {},
   "outputs": [
    {
     "name": "stdout",
     "output_type": "stream",
     "text": [
      "53.16455696202531\n"
     ]
    }
   ],
   "source": [
    "# f_score\n",
    "\n",
    "lr_f = (2*lr_pr*lr_re)/(lr_pr+lr_re)\n",
    "print(lr_f)"
   ]
  },
  {
   "cell_type": "code",
   "execution_count": 48,
   "metadata": {},
   "outputs": [
    {
     "data": {
      "text/plain": [
       "57.95454545454546"
      ]
     },
     "execution_count": 48,
     "metadata": {},
     "output_type": "execute_result"
    }
   ],
   "source": [
    "lr_acc = accuracy_score(preds,Y_test)*100\n",
    "lr_acc"
   ]
  },
  {
   "cell_type": "markdown",
   "metadata": {},
   "source": [
    "### 2) KNN "
   ]
  },
  {
   "cell_type": "code",
   "execution_count": 49,
   "metadata": {},
   "outputs": [],
   "source": [
    "from sklearn.model_selection import GridSearchCV\n",
    "from sklearn.neighbors import KNeighborsClassifier"
   ]
  },
  {
   "cell_type": "code",
   "execution_count": 50,
   "metadata": {},
   "outputs": [],
   "source": [
    "knn_grid = GridSearchCV(estimator=KNeighborsClassifier(),param_grid={'n_neighbors':np.arange(1,20)},cv=5)"
   ]
  },
  {
   "cell_type": "code",
   "execution_count": 51,
   "metadata": {},
   "outputs": [
    {
     "data": {
      "text/plain": [
       "GridSearchCV(cv=5, estimator=KNeighborsClassifier(),\n",
       "             param_grid={'n_neighbors': array([ 1,  2,  3,  4,  5,  6,  7,  8,  9, 10, 11, 12, 13, 14, 15, 16, 17,\n",
       "       18, 19])})"
      ]
     },
     "execution_count": 51,
     "metadata": {},
     "output_type": "execute_result"
    }
   ],
   "source": [
    "knn_grid.fit(X_train,Y_train)"
   ]
  },
  {
   "cell_type": "code",
   "execution_count": 52,
   "metadata": {},
   "outputs": [
    {
     "data": {
      "text/plain": [
       "{'n_neighbors': 3}"
      ]
     },
     "execution_count": 52,
     "metadata": {},
     "output_type": "execute_result"
    }
   ],
   "source": [
    "knn_grid.best_params_"
   ]
  },
  {
   "cell_type": "code",
   "execution_count": 53,
   "metadata": {},
   "outputs": [
    {
     "data": {
      "text/plain": [
       "KNeighborsClassifier(n_neighbors=3)"
      ]
     },
     "execution_count": 53,
     "metadata": {},
     "output_type": "execute_result"
    }
   ],
   "source": [
    "clf=KNeighborsClassifier(n_neighbors=3)\n",
    "clf"
   ]
  },
  {
   "cell_type": "code",
   "execution_count": 54,
   "metadata": {},
   "outputs": [
    {
     "data": {
      "text/plain": [
       "KNeighborsClassifier(n_neighbors=3)"
      ]
     },
     "execution_count": 54,
     "metadata": {},
     "output_type": "execute_result"
    }
   ],
   "source": [
    "clf.fit(X_train,Y_train)"
   ]
  },
  {
   "cell_type": "code",
   "execution_count": 55,
   "metadata": {},
   "outputs": [],
   "source": [
    "pred=clf.predict(X_test)"
   ]
  },
  {
   "cell_type": "code",
   "execution_count": 56,
   "metadata": {},
   "outputs": [
    {
     "data": {
      "text/plain": [
       "<AxesSubplot:>"
      ]
     },
     "execution_count": 56,
     "metadata": {},
     "output_type": "execute_result"
    },
    {
     "data": {
      "image/png": "[encoded data removed]",
      "text/plain": [
       "<Figure size 432x288 with 2 Axes>"
      ]
     },
     "metadata": {
      "needs_background": "light"
     },
     "output_type": "display_data"
    }
   ],
   "source": [
    "knn_con = confusion_matrix(pred,Y_test)\n",
    "sns.heatmap(knn_con, annot=True)"
   ]
  },
  {
   "cell_type": "code",
   "execution_count": 57,
   "metadata": {},
   "outputs": [
    {
     "name": "stdout",
     "output_type": "stream",
     "text": [
      "Precision:  85.15325670498083\n"
     ]
    }
   ],
   "source": [
    "# precision\n",
    "\n",
    "knn_pr = precision_score(Y_test, pred)*100\n",
    "print(\"Precision: \",knn_pr)"
   ]
  },
  {
   "cell_type": "code",
   "execution_count": 58,
   "metadata": {},
   "outputs": [
    {
     "name": "stdout",
     "output_type": "stream",
     "text": [
      "Recall is:  78.60300618921309\n"
     ]
    }
   ],
   "source": [
    "# recall\n",
    "\n",
    "knn_re = recall_score(Y_test, pred)*100\n",
    "print(\"Recall is: \",knn_re)"
   ]
  },
  {
   "cell_type": "code",
   "execution_count": 59,
   "metadata": {},
   "outputs": [
    {
     "name": "stdout",
     "output_type": "stream",
     "text": [
      "81.7471264367816\n"
     ]
    }
   ],
   "source": [
    "# f_score\n",
    "\n",
    "knn_f = (2*knn_pr*knn_re)/(knn_pr+knn_re)\n",
    "print(knn_f)"
   ]
  },
  {
   "cell_type": "code",
   "execution_count": 60,
   "metadata": {},
   "outputs": [
    {
     "data": {
      "text/plain": [
       "81.20265151515152"
      ]
     },
     "execution_count": 60,
     "metadata": {},
     "output_type": "execute_result"
    }
   ],
   "source": [
    "knn_acc = accuracy_score(pred,Y_test)*100\n",
    "knn_acc"
   ]
  },
  {
   "cell_type": "markdown",
   "metadata": {},
   "source": [
    "### 3) Naive Bayes"
   ]
  },
  {
   "cell_type": "code",
   "execution_count": 61,
   "metadata": {},
   "outputs": [],
   "source": [
    "from sklearn.naive_bayes import GaussianNB"
   ]
  },
  {
   "cell_type": "code",
   "execution_count": 62,
   "metadata": {},
   "outputs": [
    {
     "data": {
      "text/plain": [
       "GaussianNB()"
      ]
     },
     "execution_count": 62,
     "metadata": {},
     "output_type": "execute_result"
    }
   ],
   "source": [
    "nb = GaussianNB()\n",
    "nb"
   ]
  },
  {
   "cell_type": "code",
   "execution_count": 63,
   "metadata": {},
   "outputs": [
    {
     "data": {
      "text/plain": [
       "GaussianNB()"
      ]
     },
     "execution_count": 63,
     "metadata": {},
     "output_type": "execute_result"
    }
   ],
   "source": [
    "nb.fit(X_train,Y_train)"
   ]
  },
  {
   "cell_type": "code",
   "execution_count": 64,
   "metadata": {},
   "outputs": [],
   "source": [
    "preds = nb.predict(X_test)"
   ]
  },
  {
   "cell_type": "code",
   "execution_count": 65,
   "metadata": {},
   "outputs": [
    {
     "data": {
      "text/plain": [
       "<AxesSubplot:>"
      ]
     },
     "execution_count": 65,
     "metadata": {},
     "output_type": "execute_result"
    },
    {
     "data": {
      "image/png": "[encoded data removed]",
      "text/plain": [
       "<Figure size 432x288 with 2 Axes>"
      ]
     },
     "metadata": {
      "needs_background": "light"
     },
     "output_type": "display_data"
    }
   ],
   "source": [
    "nb_con = confusion_matrix(preds,Y_test)\n",
    "sns.heatmap(nb_con, annot=True)"
   ]
  },
  {
   "cell_type": "code",
   "execution_count": 66,
   "metadata": {},
   "outputs": [
    {
     "name": "stdout",
     "output_type": "stream",
     "text": [
      "Precision:  51.162790697674424\n"
     ]
    }
   ],
   "source": [
    "# precision\n",
    "\n",
    "nb_pr = precision_score(Y_test, preds)*100\n",
    "print(\"Precision: \",nb_pr)"
   ]
  },
  {
   "cell_type": "code",
   "execution_count": 67,
   "metadata": {},
   "outputs": [
    {
     "name": "stdout",
     "output_type": "stream",
     "text": [
      "Recall is:  1.9451812555260832\n"
     ]
    }
   ],
   "source": [
    "# recall\n",
    "\n",
    "nb_re = recall_score(Y_test, preds)*100\n",
    "print(\"Recall is: \",nb_re)"
   ]
  },
  {
   "cell_type": "code",
   "execution_count": 68,
   "metadata": {},
   "outputs": [
    {
     "name": "stdout",
     "output_type": "stream",
     "text": [
      "3.7478705281090297\n"
     ]
    }
   ],
   "source": [
    "# f_score\n",
    "\n",
    "nb_f = (2*nb_pr*nb_re)/(nb_pr+nb_re)\n",
    "print(nb_f)"
   ]
  },
  {
   "cell_type": "code",
   "execution_count": 69,
   "metadata": {},
   "outputs": [
    {
     "data": {
      "text/plain": [
       "46.496212121212125"
      ]
     },
     "execution_count": 69,
     "metadata": {},
     "output_type": "execute_result"
    }
   ],
   "source": [
    "nb_acc = accuracy_score(preds,Y_test)*100\n",
    "nb_acc"
   ]
  },
  {
   "cell_type": "markdown",
   "metadata": {},
   "source": [
    "### 4) Decision Tree"
   ]
  },
  {
   "cell_type": "code",
   "execution_count": 70,
   "metadata": {},
   "outputs": [],
   "source": [
    "from sklearn.tree import DecisionTreeClassifier"
   ]
  },
  {
   "cell_type": "code",
   "execution_count": 71,
   "metadata": {},
   "outputs": [],
   "source": [
    "dt_grid = GridSearchCV(estimator=DecisionTreeClassifier(),param_grid={'criterion':['gini','entropy'],'max_depth':np.arange(2,10)},cv=5)"
   ]
  },
  {
   "cell_type": "code",
   "execution_count": 72,
   "metadata": {},
   "outputs": [
    {
     "data": {
      "text/plain": [
       "GridSearchCV(cv=5, estimator=DecisionTreeClassifier(),\n",
       "             param_grid={'criterion': ['gini', 'entropy'],\n",
       "                         'max_depth': array([2, 3, 4, 5, 6, 7, 8, 9])})"
      ]
     },
     "execution_count": 72,
     "metadata": {},
     "output_type": "execute_result"
    }
   ],
   "source": [
    "dt_grid.fit(X_train,Y_train)"
   ]
  },
  {
   "cell_type": "code",
   "execution_count": 73,
   "metadata": {},
   "outputs": [
    {
     "data": {
      "text/plain": [
       "{'criterion': 'entropy', 'max_depth': 9}"
      ]
     },
     "execution_count": 73,
     "metadata": {},
     "output_type": "execute_result"
    }
   ],
   "source": [
    "dt_grid.best_params_"
   ]
  },
  {
   "cell_type": "code",
   "execution_count": 74,
   "metadata": {},
   "outputs": [],
   "source": [
    "dt = DecisionTreeClassifier(criterion='entropy',max_depth=9)"
   ]
  },
  {
   "cell_type": "code",
   "execution_count": 75,
   "metadata": {},
   "outputs": [
    {
     "data": {
      "text/plain": [
       "DecisionTreeClassifier(criterion='entropy', max_depth=9)"
      ]
     },
     "execution_count": 75,
     "metadata": {},
     "output_type": "execute_result"
    }
   ],
   "source": [
    "dt.fit(X_train,Y_train)"
   ]
  },
  {
   "cell_type": "code",
   "execution_count": 76,
   "metadata": {},
   "outputs": [],
   "source": [
    "preds = dt.predict(X_test)"
   ]
  },
  {
   "cell_type": "code",
   "execution_count": 77,
   "metadata": {},
   "outputs": [
    {
     "data": {
      "text/plain": [
       "<AxesSubplot:>"
      ]
     },
     "execution_count": 77,
     "metadata": {},
     "output_type": "execute_result"
    },
    {
     "data": {
      "image/png": "[encoded data removed]",
      "text/plain": [
       "<Figure size 432x288 with 2 Axes>"
      ]
     },
     "metadata": {
      "needs_background": "light"
     },
     "output_type": "display_data"
    }
   ],
   "source": [
    "dt_con = confusion_matrix(preds,Y_test)\n",
    "sns.heatmap(dt_con, annot=True)"
   ]
  },
  {
   "cell_type": "code",
   "execution_count": 78,
   "metadata": {},
   "outputs": [
    {
     "name": "stdout",
     "output_type": "stream",
     "text": [
      "Precision:  95.11970534069981\n"
     ]
    }
   ],
   "source": [
    "# precision\n",
    "\n",
    "dt_pr = precision_score(Y_test, preds)*100\n",
    "print(\"Precision: \",dt_pr)"
   ]
  },
  {
   "cell_type": "code",
   "execution_count": 79,
   "metadata": {},
   "outputs": [
    {
     "name": "stdout",
     "output_type": "stream",
     "text": [
      "Recall is:  91.33510167992927\n"
     ]
    }
   ],
   "source": [
    "# recall\n",
    "\n",
    "dt_re = recall_score(Y_test, preds)*100\n",
    "print(\"Recall is: \",dt_re)"
   ]
  },
  {
   "cell_type": "code",
   "execution_count": 80,
   "metadata": {},
   "outputs": [
    {
     "name": "stdout",
     "output_type": "stream",
     "text": [
      "93.18899413622012\n"
     ]
    }
   ],
   "source": [
    "# f_score\n",
    "\n",
    "dt_f = (2*dt_pr*dt_re)/(dt_pr+dt_re)\n",
    "print(dt_f)"
   ]
  },
  {
   "cell_type": "code",
   "execution_count": 81,
   "metadata": {},
   "outputs": [
    {
     "data": {
      "text/plain": [
       "92.85037878787878"
      ]
     },
     "execution_count": 81,
     "metadata": {},
     "output_type": "execute_result"
    }
   ],
   "source": [
    "dt_acc = accuracy_score(preds,Y_test)*100\n",
    "dt_acc"
   ]
  },
  {
   "cell_type": "code",
   "execution_count": 82,
   "metadata": {},
   "outputs": [
    {
     "data": {
      "text/plain": [
       "<Figure size 432x288 with 0 Axes>"
      ]
     },
     "metadata": {},
     "output_type": "display_data"
    }
   ],
   "source": [
    "from six import StringIO\n",
    "from IPython.display import Image\n",
    "from sklearn.tree import export_graphviz\n",
    "import pydotplus\n",
    "dot_data = StringIO()\n",
    "export_graphviz(dt,out_file=dot_data,filled=True,rounded=True,special_characters=True)\n",
    "graph = pydotplus.graph_from_dot_data(dot_data.getvalue())\n",
    "Image(graph.create_png())\n",
    "plt.savefig('decision_tree.jpeg')"
   ]
  },
  {
   "cell_type": "markdown",
   "metadata": {},
   "source": [
    "### 5) Random Forest"
   ]
  },
  {
   "cell_type": "code",
   "execution_count": 83,
   "metadata": {},
   "outputs": [],
   "source": [
    "from sklearn.ensemble import RandomForestClassifier"
   ]
  },
  {
   "cell_type": "code",
   "execution_count": 84,
   "metadata": {},
   "outputs": [
    {
     "data": {
      "text/plain": [
       "RandomForestClassifier(random_state=1)"
      ]
     },
     "execution_count": 84,
     "metadata": {},
     "output_type": "execute_result"
    }
   ],
   "source": [
    "rf = RandomForestClassifier(random_state=1)\n",
    "rf.fit(X_train,Y_train)"
   ]
  },
  {
   "cell_type": "code",
   "execution_count": 85,
   "metadata": {},
   "outputs": [],
   "source": [
    "preds = rf.predict(X_test)"
   ]
  },
  {
   "cell_type": "code",
   "execution_count": 86,
   "metadata": {},
   "outputs": [
    {
     "data": {
      "text/plain": [
       "<AxesSubplot:>"
      ]
     },
     "execution_count": 86,
     "metadata": {},
     "output_type": "execute_result"
    },
    {
     "data": {
      "image/png": "[encoded data removed]",
      "text/plain": [
       "<Figure size 432x288 with 2 Axes>"
      ]
     },
     "metadata": {
      "needs_background": "light"
     },
     "output_type": "display_data"
    }
   ],
   "source": [
    "rf_con = confusion_matrix(preds,Y_test)\n",
    "sns.heatmap(rf_con, annot=True)"
   ]
  },
  {
   "cell_type": "code",
   "execution_count": 87,
   "metadata": {},
   "outputs": [
    {
     "name": "stdout",
     "output_type": "stream",
     "text": [
      "Precision:  95.93721144967682\n"
     ]
    }
   ],
   "source": [
    "# precision\n",
    "\n",
    "rf_pr = precision_score(Y_test, preds)*100\n",
    "print(\"Precision: \",rf_pr)"
   ]
  },
  {
   "cell_type": "code",
   "execution_count": 88,
   "metadata": {},
   "outputs": [
    {
     "name": "stdout",
     "output_type": "stream",
     "text": [
      "Recall is:  91.8656056587091\n"
     ]
    }
   ],
   "source": [
    "# recall\n",
    "\n",
    "rf_re = recall_score(Y_test, preds)*100\n",
    "print(\"Recall is: \",rf_re)"
   ]
  },
  {
   "cell_type": "code",
   "execution_count": 89,
   "metadata": {},
   "outputs": [
    {
     "name": "stdout",
     "output_type": "stream",
     "text": [
      "93.85727190605239\n"
     ]
    }
   ],
   "source": [
    "# f_score\n",
    "\n",
    "rf_f = (2*rf_pr*rf_re)/(rf_pr+rf_re)\n",
    "print(rf_f)"
   ]
  },
  {
   "cell_type": "code",
   "execution_count": 90,
   "metadata": {},
   "outputs": [
    {
     "data": {
      "text/plain": [
       "93.56060606060606"
      ]
     },
     "execution_count": 90,
     "metadata": {},
     "output_type": "execute_result"
    }
   ],
   "source": [
    "rf_acc = accuracy_score(preds,Y_test)*100\n",
    "rf_acc"
   ]
  },
  {
   "cell_type": "markdown",
   "metadata": {},
   "source": [
    "## Result Visualization"
   ]
  },
  {
   "cell_type": "code",
   "execution_count": 91,
   "metadata": {},
   "outputs": [],
   "source": [
    "accuracy = [lr_acc,knn_acc,nb_acc,dt_acc,rf_acc]\n",
    "precision = [lr_pr,knn_pr,nb_pr,dt_pr,rf_pr]\n",
    "recall = [lr_re,knn_re,nb_re,dt_re,rf_re]\n",
    "f_score = [lr_f,knn_f,nb_f,dt_f,rf_f]\n",
    "classifier = [\"Logistic Regresssion\", \"K-Nearest Neighbour\", \"Naive Bayes\", \"Decision Tree\", \"Random Forest\"]"
   ]
  },
  {
   "cell_type": "code",
   "execution_count": 92,
   "metadata": {},
   "outputs": [
    {
     "data": {
      "text/html": [
       "<div>\n",
       "<style scoped>\n",
       "    .dataframe tbody tr th:only-of-type {\n",
       "        vertical-align: middle;\n",
       "    }\n",
       "\n",
       "    .dataframe tbody tr th {\n",
       "        vertical-align: top;\n",
       "    }\n",
       "\n",
       "    .dataframe thead th {\n",
       "        text-align: right;\n",
       "    }\n",
       "</style>\n",
       "<table border=\"1\" class=\"dataframe\">\n",
       "  <thead>\n",
       "    <tr style=\"text-align: right;\">\n",
       "      <th></th>\n",
       "      <th>Accuracy</th>\n",
       "      <th>Precision</th>\n",
       "      <th>Recall</th>\n",
       "      <th>F-Score</th>\n",
       "    </tr>\n",
       "  </thead>\n",
       "  <tbody>\n",
       "    <tr>\n",
       "      <th>Logistic Regresssion</th>\n",
       "      <td>57.954545</td>\n",
       "      <td>65.882353</td>\n",
       "      <td>44.562334</td>\n",
       "      <td>53.164557</td>\n",
       "    </tr>\n",
       "    <tr>\n",
       "      <th>K-Nearest Neighbour</th>\n",
       "      <td>81.202652</td>\n",
       "      <td>85.153257</td>\n",
       "      <td>78.603006</td>\n",
       "      <td>81.747126</td>\n",
       "    </tr>\n",
       "    <tr>\n",
       "      <th>Naive Bayes</th>\n",
       "      <td>46.496212</td>\n",
       "      <td>51.162791</td>\n",
       "      <td>1.945181</td>\n",
       "      <td>3.747871</td>\n",
       "    </tr>\n",
       "    <tr>\n",
       "      <th>Decision Tree</th>\n",
       "      <td>92.850379</td>\n",
       "      <td>95.119705</td>\n",
       "      <td>91.335102</td>\n",
       "      <td>93.188994</td>\n",
       "    </tr>\n",
       "    <tr>\n",
       "      <th>Random Forest</th>\n",
       "      <td>93.560606</td>\n",
       "      <td>95.937211</td>\n",
       "      <td>91.865606</td>\n",
       "      <td>93.857272</td>\n",
       "    </tr>\n",
       "  </tbody>\n",
       "</table>\n",
       "</div>"
      ],
      "text/plain": [
       "                       Accuracy  Precision     Recall    F-Score\n",
       "Logistic Regresssion  57.954545  65.882353  44.562334  53.164557\n",
       "K-Nearest Neighbour   81.202652  85.153257  78.603006  81.747126\n",
       "Naive Bayes           46.496212  51.162791   1.945181   3.747871\n",
       "Decision Tree         92.850379  95.119705  91.335102  93.188994\n",
       "Random Forest         93.560606  95.937211  91.865606  93.857272"
      ]
     },
     "execution_count": 92,
     "metadata": {},
     "output_type": "execute_result"
    }
   ],
   "source": [
    "summary = pd.DataFrame({\"Accuracy\":accuracy, \"Precision\":precision, \"Recall\":recall, \"F-Score\":f_score},index=classifier)\n",
    "summary"
   ]
  },
  {
   "cell_type": "markdown",
   "metadata": {},
   "source": [
    "### Accuracy Graph"
   ]
  },
  {
   "cell_type": "code",
   "execution_count": 93,
   "metadata": {},
   "outputs": [],
   "source": [
    "dic = {\"Logistic Regression\":lr_acc,\"K-Nearest Neighbor\":knn_acc,\"Naive Bayes\":nb_acc,\"Decision Tree\":dt_acc,\"Random Forest\":rf_acc}"
   ]
  },
  {
   "cell_type": "code",
   "execution_count": 94,
   "metadata": {},
   "outputs": [
    {
     "data": {
      "text/plain": [
       "['Logistic Regression',\n",
       " 'K-Nearest Neighbor',\n",
       " 'Naive Bayes',\n",
       " 'Decision Tree',\n",
       " 'Random Forest']"
      ]
     },
     "execution_count": 94,
     "metadata": {},
     "output_type": "execute_result"
    }
   ],
   "source": [
    "algo = list(dic.keys())\n",
    "algo"
   ]
  },
  {
   "cell_type": "code",
   "execution_count": 95,
   "metadata": {},
   "outputs": [
    {
     "data": {
      "text/plain": [
       "[57.95454545454546,\n",
       " 81.20265151515152,\n",
       " 46.496212121212125,\n",
       " 92.85037878787878,\n",
       " 93.56060606060606]"
      ]
     },
     "execution_count": 95,
     "metadata": {},
     "output_type": "execute_result"
    }
   ],
   "source": [
    "accuracies = list(dic.values())\n",
    "accuracies"
   ]
  },
  {
   "cell_type": "code",
   "execution_count": 96,
   "metadata": {},
   "outputs": [
    {
     "name": "stderr",
     "output_type": "stream",
     "text": [
      "/Users/pranchalsihare/opt/anaconda3/lib/python3.8/site-packages/seaborn/_decorators.py:36: FutureWarning: Pass the following variables as keyword args: x, y. From version 0.12, the only valid positional argument will be `data`, and passing other arguments without an explicit keyword will result in an error or misinterpretation.\n",
      "  warnings.warn(\n"
     ]
    },
    {
     "data": {
      "text/plain": [
       "<AxesSubplot:title={'center':'Accuracy Comparision'}, xlabel='Classification Algorithms', ylabel='Accuracy values'>"
      ]
     },
     "execution_count": 96,
     "metadata": {},
     "output_type": "execute_result"
    },
    {
     "data": {
      "image/png": "[encoded data removed]",
      "text/plain": [
       "<Figure size 1080x720 with 1 Axes>"
      ]
     },
     "metadata": {},
     "output_type": "display_data"
    }
   ],
   "source": [
    "sns.set(rc={'figure.figsize':(15,10)})\n",
    "plt.title(\"Accuracy Comparision\")\n",
    "plt.xlabel(\"Classification Algorithms\")\n",
    "plt.ylabel(\"Accuracy values\")\n",
    "sns.barplot(algo,accuracies)"
   ]
  }
 ],
 "metadata": {
  "kernelspec": {
   "display_name": "Python 3",
   "language": "python",
   "name": "python3"
  },
  "language_info": {
   "codemirror_mode": {
    "name": "ipython",
    "version": 3
   },
   "file_extension": ".py",
   "mimetype": "text/x-python",
   "name": "python",
   "nbconvert_exporter": "python",
   "pygments_lexer": "ipython3",
   "version": "3.8.8"
  }
 },
 "nbformat": 4,
 "nbformat_minor": 4
}
